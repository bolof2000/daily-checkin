{
  "nbformat": 4,
  "nbformat_minor": 0,
  "metadata": {
    "colab": {
      "name": "Untitled1.ipynb",
      "provenance": [],
      "authorship_tag": "ABX9TyMbiSHo9iCC/2//WyrzC/W5",
      "include_colab_link": true
    },
    "kernelspec": {
      "name": "python3",
      "display_name": "Python 3"
    },
    "language_info": {
      "name": "python"
    }
  },
  "cells": [
    {
      "cell_type": "markdown",
      "metadata": {
        "id": "view-in-github",
        "colab_type": "text"
      },
      "source": [
        "<a href=\"https://colab.research.google.com/github/bolof2000/daily-checkin/blob/master/Untitled1.ipynb\" target=\"_parent\"><img src=\"https://colab.research.google.com/assets/colab-badge.svg\" alt=\"Open In Colab\"/></a>"
      ]
    },
    {
      "cell_type": "code",
      "execution_count": null,
      "metadata": {
        "id": "ap2ZiYhHdHBE"
      },
      "outputs": [],
      "source": [
        "import os\n",
        "import csv\n",
        "\n",
        "\n",
        "def read_data_logs():\n",
        "    valid = []\n",
        "    for root, dirs, files in os.walk(os.getcwd()):\n",
        "\n",
        "        for file in files:\n",
        "            if file.endswith('.log'):\n",
        "                valid.append(file)\n",
        "\n",
        "    result = []\n",
        "    for file in valid:\n",
        "        with open(file, 'r') as f:\n",
        "            data = f.readlines()\n",
        "            result.append(data)\n",
        "    return result\n",
        "\n",
        "\n",
        "def append_data_to_csv():\n",
        "    log_data = read_data_logs()\n",
        "    with open('test01.csv', 'w') as csvData:\n",
        "        writer = csv.writer(csvData)\n",
        "        #print(log_data[0][-1])\n",
        "        writer.writerow(log_data[0][-1])\n",
        "        writer.writerow(log_data[1][-1])\n",
        "\n",
        "\n",
        "if __name__ == '__main__':\n",
        "    print(append_data_to_csv())\n"
      ]
    },
    {
      "cell_type": "markdown",
      "source": [
        "Unable to open your file because its wrong uft-8 so i tested with my logs. "
      ],
      "metadata": {
        "id": "i5xVbwm5dIzN"
      }
    }
  ]
}