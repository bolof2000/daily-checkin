{
  "nbformat": 4,
  "nbformat_minor": 0,
  "metadata": {
    "colab": {
      "name": "interviewguide.ipynb",
      "provenance": [],
      "authorship_tag": "ABX9TyPmIU3HiNO6cFKtrkOIzzXK",
      "include_colab_link": true
    },
    "kernelspec": {
      "name": "python3",
      "display_name": "Python 3"
    },
    "language_info": {
      "name": "python"
    }
  },
  "cells": [
    {
      "cell_type": "markdown",
      "metadata": {
        "id": "view-in-github",
        "colab_type": "text"
      },
      "source": [
        "<a href=\"https://colab.research.google.com/github/bolof2000/daily-checkin/blob/master/interviewguide.ipynb\" target=\"_parent\"><img src=\"https://colab.research.google.com/assets/colab-badge.svg\" alt=\"Open In Colab\"/></a>"
      ]
    },
    {
      "cell_type": "code",
      "execution_count": 16,
      "metadata": {
        "colab": {
          "base_uri": "https://localhost:8080/",
          "height": 133
        },
        "id": "f2SMSOhdv6DB",
        "outputId": "858613ba-ab20-4872-83c9-88e81162811b"
      },
      "outputs": [
        {
          "output_type": "error",
          "ename": "SyntaxError",
          "evalue": "ignored",
          "traceback": [
            "\u001b[0;36m  File \u001b[0;32m\"<ipython-input-16-a4589ba3d26f>\"\u001b[0;36m, line \u001b[0;32m69\u001b[0m\n\u001b[0;31m    \u001b[0m\n\u001b[0m    ^\u001b[0m\n\u001b[0;31mSyntaxError\u001b[0m\u001b[0;31m:\u001b[0m unexpected EOF while parsing\n"
          ]
        }
      ],
      "source": [
        "from typing import List\n",
        "from heapq import heappop,heappush\n",
        "from collections import Counter\n",
        "class ArraysAndHashingSolutions:\n",
        "\n",
        "  @staticmethod\n",
        "  def validAnagrams(s1:str,s2:str):\n",
        "\n",
        "    count = [0]*26 \n",
        "\n",
        "    for char in s1:\n",
        "      count[ord(char)-ord('a')] +=1\n",
        "    \n",
        "    for char in s2:\n",
        "      count[ord(char)-ord('a')] -=1\n",
        "\n",
        "    for item in count:\n",
        "      if item != 0:\n",
        "        return False \n",
        "    return True\n",
        "\n",
        "  @staticmethod\n",
        "  def groupAnagrams(strs:List[str]): \n",
        "    dic = {}\n",
        "\n",
        "    for word in strs:\n",
        "      hashed = \"\".join(sorted(list(word)))\n",
        "\n",
        "      if hashed not in dic:\n",
        "        dic[hashed] = []\n",
        "      else:\n",
        "        dic[hashed].append(word)\n",
        "    \n",
        "    return dic.values()\n",
        "  \n",
        "  @staticmethod\n",
        "  def topKFrequent(nums: List[int], k: int) -> List[int]:\n",
        "    priority = []\n",
        "    dic = Counter(nums)\n",
        "    result = []\n",
        "\n",
        "    for item in dic:\n",
        "      heappush(priority,[dic[item],item])\n",
        "      if len(priority) > k:\n",
        "        heappop(priority)\n",
        "    \n",
        "    for item in priority:\n",
        "      result.append(item[1])\n",
        "\n",
        "    return result\n",
        "  \n",
        "  @staticmethod\n",
        "  def productExceptSelf(nums: List[int]) -> List[int]:\n",
        "\n",
        "     results = [1]*len(nums)\n",
        "\n",
        "     mul =1 \n",
        "\n",
        "     for i in range(len(nums)-1):\n",
        "       results[i] = results[i]*mul\n",
        "       mul = nums[i]*mul\n",
        "    \n",
        "     mul = 1\n",
        "\n",
        "     for i in range(len(nums)-1,-1,-1):\n",
        "       results[i] = results[i]*mul\n",
        "       mul = nums[i]*mul\n",
        "    \n",
        "     return results \n"
      ]
    },
    {
      "cell_type": "code",
      "source": [
        "logs = [\n",
        "        [\"58523\",\"user_1\",\"resource_1\"],\n",
        "        [\"62314\",\"user_2\",\"resource_2\"],\n",
        "        [\"54001\",\"user_1\",\"resource_3\"],\n",
        "        [\"200\",\"user_6\",\"resource_5\"],\n",
        "        [\"215\",\"user_6\",\"resource_4\"],\n",
        "        [\"54060\",\"user_2\",\"resource_3\"],\n",
        "        [\"53760\",\"user_3\",\"resource_3\"],\n",
        "        [\"58522\",\"user_22\",\"resource_1\"],\n",
        "        [\"53651\",\"user_5\",\"resource_3\"],\n",
        "        [\"2\",\"user_6\",\"resource_1\"],\n",
        "        [\"100\",\"user_6\",\"resource_6\"],\n",
        "        [\"400\",\"user_7\",\"resource_2\"],\n",
        "        [\"100\",\"user_8\",\"resource_6\"],\n",
        "        [\"54359\",\"user_1\",\"resource_3\"]\n",
        "\n",
        "]\n",
        "\n",
        "def processLogs(logs):\n",
        "  pass "
      ],
      "metadata": {
        "id": "Ye3g0gwK3B6e"
      },
      "execution_count": null,
      "outputs": []
    },
    {
      "cell_type": "code",
      "source": [
        "if __name__ == '__main__':\n",
        "  print(ArraysAndHashingSolutions.validAnagrams(\"rat\",\"car\"))\n",
        "  print(ArraysAndHashingSolutions.topKFrequent([1,1,1,2,2,3],2))\n"
      ],
      "metadata": {
        "colab": {
          "base_uri": "https://localhost:8080/"
        },
        "id": "nmU_LBPyyXVw",
        "outputId": "4c296034-a5d8-43a7-d39b-3cac23cfa718"
      },
      "execution_count": 15,
      "outputs": [
        {
          "output_type": "stream",
          "name": "stdout",
          "text": [
            "False\n",
            "[2, 1]\n"
          ]
        }
      ]
    }
  ]
}