{
  "nbformat": 4,
  "nbformat_minor": 0,
  "metadata": {
    "colab": {
      "name": "leetcode01.ipynb",
      "provenance": [],
      "collapsed_sections": [],
      "authorship_tag": "ABX9TyPWVbFOEvLvar8hz+BvEIaQ",
      "include_colab_link": true
    },
    "kernelspec": {
      "name": "python3",
      "display_name": "Python 3"
    },
    "language_info": {
      "name": "python"
    }
  },
  "cells": [
    {
      "cell_type": "markdown",
      "metadata": {
        "id": "view-in-github",
        "colab_type": "text"
      },
      "source": [
        "<a href=\"https://colab.research.google.com/github/bolof2000/daily-checkin/blob/master/leetcode01.ipynb\" target=\"_parent\"><img src=\"https://colab.research.google.com/assets/colab-badge.svg\" alt=\"Open In Colab\"/></a>"
      ]
    },
    {
      "cell_type": "code",
      "execution_count": null,
      "metadata": {
        "id": "42CPQ3Oild72"
      },
      "outputs": [],
      "source": [
        "def longestCommonSubsequence(text1,text2):\n",
        "\n",
        "  # dp algorithm\n",
        "  n,m = len(text1),len(text2)\n",
        "\n",
        "  dp = [[0]*(m+1) for _ in range(n+1)]   #understand this again \n",
        "  print(dp)\n",
        "\n",
        "  for row in range(1,n+1):\n",
        "    for col in range(1,m+1):\n",
        "      if text1[row-1] == text2[col-1]:\n",
        "        dp[row][col] = 1+ dp[row-1][col-1]\n",
        "      else:\n",
        "        dp[row][col] = max(dp[row-1][col],dp[row][col-1])\n",
        "  \n",
        "  print(dp)\n",
        "  return dp[-1][-1]\n"
      ]
    },
    {
      "cell_type": "code",
      "source": [
        "from typing import List\n",
        "def shiftingLetters(s,shifts:List[int]):\n",
        "\n",
        "  s = list(s)\n",
        "\n",
        "  for i,sh in enumerate(shifts):\n",
        "    for j in range(i+1):\n",
        "      s[j]  = chr((((ord(s[j]) - ord('a'))+sh)%26)+97)\n",
        "  \n",
        "  return  \"\".join(s)\n"
      ],
      "metadata": {
        "id": "MG3aeer6qTRB"
      },
      "execution_count": null,
      "outputs": []
    },
    {
      "cell_type": "code",
      "source": [
        "from typing import List"
      ],
      "metadata": {
        "id": "ixxqtNXf1kCb"
      },
      "execution_count": null,
      "outputs": []
    },
    {
      "cell_type": "code",
      "source": [
        "from typing import List\n",
        "from collections import Counter\n",
        "def intersection(nums1: List[int], nums2: List[int]) -> List[int]:\n",
        "  result = []\n",
        "  dic = Counter(nums1)\n",
        "\n",
        "  for item in nums2:\n",
        "    if dic[item] >0:\n",
        "      result.append(item)\n",
        "      dic[item] -=1\n",
        "  return result\n"
      ],
      "metadata": {
        "id": "dgZOCVcd1b2D"
      },
      "execution_count": null,
      "outputs": []
    },
    {
      "cell_type": "code",
      "source": [
        "class Solution2:\n",
        "  def intersection(self, nums1: List[int], nums2: List[int]) -> List[int]:\n",
        "\n",
        "    dic = Counter(nums1)\n",
        "    result = []\n",
        "\n",
        "    for item in nums2:\n",
        "      if dic[item] > 0:\n",
        "        result.append(item)\n",
        "        dic[item] -=1\n",
        "    return result\n",
        "\n",
        "    "
      ],
      "metadata": {
        "id": "Szrn8M_x2oxu"
      },
      "execution_count": null,
      "outputs": []
    },
    {
      "cell_type": "code",
      "source": [
        "class Solution:\n",
        "    def intersect(self, nums1: List[int], nums2: List[int]) -> List[int]:\n",
        "        \n",
        "        dic = Counter(nums1)\n",
        "        result = []\n",
        "\n",
        "        for item in nums2:\n",
        "          if dic[item] >0:\n",
        "            result.append(item)\n",
        "            dic[item] -=1\n",
        "        return result\n"
      ],
      "metadata": {
        "id": "ji1ajNTS5XE3"
      },
      "execution_count": null,
      "outputs": []
    },
    {
      "cell_type": "code",
      "source": [
        "class Solution:\n",
        "  \"\"\"\n",
        "  Given an integer array nums that may contain duplicates, return all possible subsets (the power set).\n",
        "\n",
        "  The solution set must not contain duplicate subsets. Return the solution in any order.\n",
        "  \"\"\"\n",
        "  def subsetsWithDup(self, nums: List[int]) -> List[List[int]]:\n",
        "    results = [[]]\n",
        "    nums.sort()\n",
        "\n",
        "    for num in nums:\n",
        "      temp = []\n",
        "\n",
        "      for item in results:\n",
        "        temp.append(item+[num])\n",
        "\n",
        "      results.extend(temp)\n",
        "    return [list(l) for l in set([tuple(l) for l in results])]\n"
      ],
      "metadata": {
        "id": "OWHvFMKygIiB"
      },
      "execution_count": null,
      "outputs": []
    },
    {
      "cell_type": "code",
      "source": [
        "def maxConsectutiveOnes(nums:List[int]):\n",
        "\n",
        "  window = 0 \n",
        "  maxlen = float('-inf')\n",
        "\n",
        "  for i in range(len(nums)):\n",
        "    pass \n"
      ],
      "metadata": {
        "id": "SoMA1iSE8dMZ"
      },
      "execution_count": null,
      "outputs": []
    },
    {
      "cell_type": "code",
      "source": [
        "if __name__ == '__main__':\n",
        "  print(longestCommonSubsequence(\"abc\",\"abc\"))\n",
        "\n",
        "  #Input: nums = [1,2,2]\n",
        "  #Output: [[],[1],[1,2],[1,2,2],[2],[2,2]]"
      ],
      "metadata": {
        "colab": {
          "base_uri": "https://localhost:8080/"
        },
        "id": "LQnX7B1joIXx",
        "outputId": "ff3988cb-c4f3-404a-fc59-412998c27afa"
      },
      "execution_count": null,
      "outputs": [
        {
          "output_type": "stream",
          "name": "stdout",
          "text": [
            "[[0, 0, 0, 0], [0, 0, 0, 0], [0, 0, 0, 0], [0, 0, 0, 0]]\n",
            "[[0, 0, 0, 0], [0, 1, 1, 1], [0, 1, 2, 2], [0, 1, 2, 3]]\n",
            "3\n"
          ]
        }
      ]
    },
    {
      "cell_type": "code",
      "source": [
        ""
      ],
      "metadata": {
        "id": "AlBJZHGa2oN-"
      },
      "execution_count": null,
      "outputs": []
    }
  ]
}