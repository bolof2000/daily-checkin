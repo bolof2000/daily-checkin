{
  "nbformat": 4,
  "nbformat_minor": 0,
  "metadata": {
    "colab": {
      "name": "hard.ipynb",
      "provenance": [],
      "authorship_tag": "ABX9TyM86xZezy+UL+XMOEWd3gVZ",
      "include_colab_link": true
    },
    "kernelspec": {
      "name": "python3",
      "display_name": "Python 3"
    },
    "language_info": {
      "name": "python"
    }
  },
  "cells": [
    {
      "cell_type": "markdown",
      "metadata": {
        "id": "view-in-github",
        "colab_type": "text"
      },
      "source": [
        "<a href=\"https://colab.research.google.com/github/bolof2000/daily-checkin/blob/master/hard.ipynb\" target=\"_parent\"><img src=\"https://colab.research.google.com/assets/colab-badge.svg\" alt=\"Open In Colab\"/></a>"
      ]
    },
    {
      "cell_type": "code",
      "execution_count": 1,
      "metadata": {
        "id": "mACLgLYHPJO7"
      },
      "outputs": [],
      "source": [
        "def removeDuplicates(s:str,k:int):\n",
        "  stack = []   #[char,count]\n",
        "  for char in s:\n",
        "    if stack and stack[-1][0] == char:\n",
        "      stack[-1][1] +=1\n",
        "    else:\n",
        "      stack.append([c,1])\n",
        "    \n",
        "    if stack[-1][1] == k:\n",
        "      stack.pop()\n",
        "  \n",
        "  res = \"\"\n",
        "\n",
        "  for char, count in stack:\n",
        "    res += (char*count)\n",
        "  \n",
        "  return res \n"
      ]
    },
    {
      "cell_type": "code",
      "source": [
        ""
      ],
      "metadata": {
        "id": "_IcmqjtzvqEh"
      },
      "execution_count": null,
      "outputs": []
    }
  ]
}