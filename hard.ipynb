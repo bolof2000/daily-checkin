{
  "nbformat": 4,
  "nbformat_minor": 0,
  "metadata": {
    "colab": {
      "name": "hard.ipynb",
      "provenance": [],
      "authorship_tag": "ABX9TyPgLpD5V6ybG5rVY2YMWLfV",
      "include_colab_link": true
    },
    "kernelspec": {
      "name": "python3",
      "display_name": "Python 3"
    },
    "language_info": {
      "name": "python"
    }
  },
  "cells": [
    {
      "cell_type": "markdown",
      "metadata": {
        "id": "view-in-github",
        "colab_type": "text"
      },
      "source": [
        "<a href=\"https://colab.research.google.com/github/bolof2000/daily-checkin/blob/master/hard.ipynb\" target=\"_parent\"><img src=\"https://colab.research.google.com/assets/colab-badge.svg\" alt=\"Open In Colab\"/></a>"
      ]
    },
    {
      "cell_type": "code",
      "execution_count": null,
      "metadata": {
        "id": "mACLgLYHPJO7"
      },
      "outputs": [],
      "source": [
        "def removeDuplicates(s:str,k:int):\n",
        "  stack = []   #[char,count]\n",
        "  for char in s:\n",
        "    if stack and stack[-1][0] == char:\n",
        "      stack[-1][1] +=1\n",
        "    else:\n",
        "      stack.append([c,1])\n",
        "    \n",
        "    if stack[-1][1] == k:\n",
        "      stack.pop()\n",
        "  \n",
        "  res = \"\"\n",
        "\n",
        "  for char, count in stack:\n",
        "    res += (char*count)\n",
        "  \n",
        "  return res \n"
      ]
    },
    {
      "cell_type": "code",
      "source": [
        "def stack_freq(s):\n",
        "\n",
        "  stack = []\n",
        "\n",
        "  for char in s:\n",
        "    if stack and stack[-1][0] == char: \n",
        "      stack[-1][1] += 1 \n",
        "    else:\n",
        "      stack.append([char,1])\n",
        "  \n",
        "  print(stack)\n",
        "\n",
        "  result = []\n",
        "\n",
        "  for char,count in stack:\n",
        "    result.append(char)\n",
        "    if count >1:\n",
        "      result.append(str(count))\n",
        "    \n",
        "  res = \"\"\n",
        "  for char,count in stack: \n",
        "    res +=(char*count)\n",
        "  return result\n"
      ],
      "metadata": {
        "id": "_IcmqjtzvqEh"
      },
      "execution_count": null,
      "outputs": []
    },
    {
      "cell_type": "code",
      "source": [
        "print(stack_freq(\"abbaa\"))"
      ],
      "metadata": {
        "colab": {
          "base_uri": "https://localhost:8080/"
        },
        "id": "6sDQq49ZzT9z",
        "outputId": "19b43fa6-7d36-430d-cded-14a3bf41a7bc"
      },
      "execution_count": null,
      "outputs": [
        {
          "output_type": "stream",
          "name": "stdout",
          "text": [
            "[['a', 1], ['b', 2], ['a', 2]]\n",
            "['a', 'b', '2', 'a', '2']\n"
          ]
        }
      ]
    },
    {
      "cell_type": "code",
      "source": [
        "def compress(s:str):\n",
        "  stack = []\n",
        "\n",
        "  for char in s:\n",
        "    if stack and stack[-1][0] == char:\n",
        "      stack[-1][1] +=1\n",
        "    else:\n",
        "      stack.append([char,1])\n",
        "\n",
        "  res = []\n",
        "\n",
        "  for char,count in stack:\n",
        "    res.append(char)\n",
        "    res.append(str(count))\n",
        "  \n",
        "  return \"\".join(res)"
      ],
      "metadata": {
        "id": "z3piJueU5pxR"
      },
      "execution_count": null,
      "outputs": []
    },
    {
      "cell_type": "code",
      "source": [
        "print(compress(\"aabba\"))"
      ],
      "metadata": {
        "colab": {
          "base_uri": "https://localhost:8080/"
        },
        "id": "o80AZl-q7FFT",
        "outputId": "8b231130-5e68-47dd-d96b-571a6925e7ad"
      },
      "execution_count": null,
      "outputs": [
        {
          "output_type": "stream",
          "name": "stdout",
          "text": [
            "a2b2a1\n"
          ]
        }
      ]
    },
    {
      "cell_type": "code",
      "source": [
        "from typing import List \n",
        "def maxProductArray(nums:List[int]):\n",
        "  result = nums[0]\n",
        "  for i in range(len(nums)):\n",
        "    accum = 1\n",
        "    for j in range(i,len(nums)):\n",
        "      #print(nums[j])\n",
        "      accum *= nums[j]\n",
        "      #print(accum)\n",
        "\n",
        "      result = max(accum,result)\n",
        "      print([i,j,result])\n",
        "  return result \n"
      ],
      "metadata": {
        "id": "r4QUeDQ22dWP"
      },
      "execution_count": null,
      "outputs": []
    },
    {
      "cell_type": "code",
      "source": [
        ""
      ],
      "metadata": {
        "id": "6Jni2sidgKgu"
      },
      "execution_count": null,
      "outputs": []
    },
    {
      "cell_type": "code",
      "source": [
        "print(maxProductArray([2,3,-2,4]))"
      ],
      "metadata": {
        "colab": {
          "base_uri": "https://localhost:8080/"
        },
        "id": "tg7f9VR03rBR",
        "outputId": "6b0cb6ee-7245-456a-a733-9025aa6d04d3"
      },
      "execution_count": null,
      "outputs": [
        {
          "output_type": "stream",
          "name": "stdout",
          "text": [
            "[0, 0, 2]\n",
            "[0, 1, 6]\n",
            "[0, 2, 6]\n",
            "[0, 3, 6]\n",
            "[1, 1, 6]\n",
            "[1, 2, 6]\n",
            "[1, 3, 6]\n",
            "[2, 2, 6]\n",
            "[2, 3, 6]\n",
            "[3, 3, 6]\n",
            "6\n"
          ]
        }
      ]
    },
    {
      "cell_type": "code",
      "source": [
        "from typing import List\n",
        "from collections import defaultdict\n",
        "def subArraySum(nums:List[int],k):\n",
        "\n",
        "  dic = defaultdict(int)\n",
        "  dic.setdefault(0,1)\n",
        "\n",
        "  summ = 0 \n",
        "  count = 0 \n",
        "\n",
        "  for num in nums:\n",
        "    summ +=num \n",
        "    temp = summ-k \n",
        "\n",
        "    if temp in dic:\n",
        "      count +=dic[temp]\n",
        "    dic[summ] +=1\n",
        "\n",
        "  return count\n",
        "\n",
        " \n",
        "  \n",
        "\n"
      ],
      "metadata": {
        "id": "psfJMld1gLn6"
      },
      "execution_count": null,
      "outputs": []
    },
    {
      "cell_type": "code",
      "source": [
        "from typing import List\n",
        "def plusOne(digits:List[int]):\n",
        "  res = \"\"\n",
        "\n",
        "  for item in digits:\n",
        "    res += str(item)\n",
        "\n",
        "  num = int(res)+1\n",
        "  \n",
        "  for k in str(num):\n",
        "    print(k)\n",
        "\n",
        "  result = [int(i) for i in str(num)]\n",
        "\n",
        "  return result "
      ],
      "metadata": {
        "id": "O8DvV4L1setd"
      },
      "execution_count": null,
      "outputs": []
    },
    {
      "cell_type": "code",
      "source": [
        "print(plusOne([9]))"
      ],
      "metadata": {
        "id": "Rv8EHm70rYu8",
        "outputId": "9ca04e86-8963-4593-efbf-563584a74962",
        "colab": {
          "base_uri": "https://localhost:8080/"
        }
      },
      "execution_count": null,
      "outputs": [
        {
          "output_type": "stream",
          "name": "stdout",
          "text": [
            "1\n",
            "0\n",
            "[1, 0]\n"
          ]
        }
      ]
    },
    {
      "cell_type": "code",
      "source": [
        "print(subArraySum([1,1,1],2))"
      ],
      "metadata": {
        "id": "yCwCnNl4kZiF",
        "outputId": "042a7c40-1204-46b6-bd15-d36e2eb9eb62",
        "colab": {
          "base_uri": "https://localhost:8080/"
        }
      },
      "execution_count": null,
      "outputs": [
        {
          "output_type": "stream",
          "name": "stdout",
          "text": [
            "2\n"
          ]
        }
      ]
    },
    {
      "cell_type": "code",
      "source": [
        "def numberOfIslands(grid):\n",
        "\n",
        "  def dfs(grid,row,col):\n",
        "    if row < 0 or row >= len(grid) or col <0 or col >= len(grid[0]) or grid[row][col] == '0':\n",
        "      return\n",
        "\n",
        "    grid[row][col] = '0'\n",
        "    dfs(grid,row+1,col)\n",
        "    dfs(grid,row-1,col)\n",
        "    dfs(grid,row,col+1)\n",
        "    dfs(grid,row,col-1)\n",
        "\n",
        "  count = 0 \n",
        "\n",
        "  for row in range(len(grid)):\n",
        "    for col in range(len(grid[0])):\n",
        "      if grid[row][col] == '1':\n",
        "        count +=1\n",
        "        dfs(grid,row,col)\n",
        "  \n",
        "  return count "
      ],
      "metadata": {
        "id": "_WHa7B9RRjzn"
      },
      "execution_count": 1,
      "outputs": []
    }
  ]
}