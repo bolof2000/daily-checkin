{
  "nbformat": 4,
  "nbformat_minor": 0,
  "metadata": {
    "colab": {
      "name": "hard.ipynb",
      "provenance": [],
      "authorship_tag": "ABX9TyPgxWhKD6aHxngPwkeeCdx1",
      "include_colab_link": true
    },
    "kernelspec": {
      "name": "python3",
      "display_name": "Python 3"
    },
    "language_info": {
      "name": "python"
    }
  },
  "cells": [
    {
      "cell_type": "markdown",
      "metadata": {
        "id": "view-in-github",
        "colab_type": "text"
      },
      "source": [
        "<a href=\"https://colab.research.google.com/github/bolof2000/daily-checkin/blob/master/hard.ipynb\" target=\"_parent\"><img src=\"https://colab.research.google.com/assets/colab-badge.svg\" alt=\"Open In Colab\"/></a>"
      ]
    },
    {
      "cell_type": "code",
      "execution_count": null,
      "metadata": {
        "id": "mACLgLYHPJO7"
      },
      "outputs": [],
      "source": [
        "def removeDuplicates(s:str,k:int):\n",
        "  stack = []   #[char,count]\n",
        "  for char in s:\n",
        "    if stack and stack[-1][0] == char:\n",
        "      stack[-1][1] +=1\n",
        "    else:\n",
        "      stack.append([c,1])\n",
        "    \n",
        "    if stack[-1][1] == k:\n",
        "      stack.pop()\n",
        "  \n",
        "  res = \"\"\n",
        "\n",
        "  for char, count in stack:\n",
        "    res += (char*count)\n",
        "  \n",
        "  return res \n"
      ]
    },
    {
      "cell_type": "code",
      "source": [
        "def stack_freq(s):\n",
        "\n",
        "  stack = []\n",
        "\n",
        "  for char in s:\n",
        "    if stack and stack[-1][0] == char: \n",
        "      stack[-1][1] += 1 \n",
        "    else:\n",
        "      stack.append([char,1])\n",
        "  \n",
        "  print(stack)\n",
        "\n",
        "  result = []\n",
        "\n",
        "  for char,count in stack:\n",
        "    result.append(char)\n",
        "    if count >1:\n",
        "      result.append(str(count))\n",
        "    \n",
        "  res = \"\"\n",
        "  for char,count in stack: \n",
        "    res +=(char*count)\n",
        "  return result\n"
      ],
      "metadata": {
        "id": "_IcmqjtzvqEh"
      },
      "execution_count": null,
      "outputs": []
    },
    {
      "cell_type": "code",
      "source": [
        "print(stack_freq(\"abbaa\"))"
      ],
      "metadata": {
        "colab": {
          "base_uri": "https://localhost:8080/"
        },
        "id": "6sDQq49ZzT9z",
        "outputId": "19b43fa6-7d36-430d-cded-14a3bf41a7bc"
      },
      "execution_count": null,
      "outputs": [
        {
          "output_type": "stream",
          "name": "stdout",
          "text": [
            "[['a', 1], ['b', 2], ['a', 2]]\n",
            "['a', 'b', '2', 'a', '2']\n"
          ]
        }
      ]
    },
    {
      "cell_type": "code",
      "source": [
        "def compress(s:str):\n",
        "  stack = []\n",
        "\n",
        "  for char in s:\n",
        "    if stack and stack[-1][0] == char:\n",
        "      stack[-1][1] +=1\n",
        "    else:\n",
        "      stack.append([char,1])\n",
        "\n",
        "  res = []\n",
        "\n",
        "  for char,count in stack:\n",
        "    res.append(char)\n",
        "    res.append(str(count))\n",
        "  \n",
        "  return \"\".join(res)"
      ],
      "metadata": {
        "id": "z3piJueU5pxR"
      },
      "execution_count": null,
      "outputs": []
    },
    {
      "cell_type": "code",
      "source": [
        "print(compress(\"aabba\"))"
      ],
      "metadata": {
        "colab": {
          "base_uri": "https://localhost:8080/"
        },
        "id": "o80AZl-q7FFT",
        "outputId": "8b231130-5e68-47dd-d96b-571a6925e7ad"
      },
      "execution_count": null,
      "outputs": [
        {
          "output_type": "stream",
          "name": "stdout",
          "text": [
            "a2b2a1\n"
          ]
        }
      ]
    },
    {
      "cell_type": "code",
      "source": [
        "from typing import List \n",
        "def maxProductArray(nums:List[int]):\n",
        "  result = nums[0]\n",
        "  for i in range(len(nums)):\n",
        "    accum = 1\n",
        "    for j in range(i,len(nums)):\n",
        "      #print(nums[j])\n",
        "      accum *= nums[j]\n",
        "      #print(accum)\n",
        "\n",
        "      result = max(accum,result)\n",
        "      print([i,j,result])\n",
        "  return result \n"
      ],
      "metadata": {
        "id": "r4QUeDQ22dWP"
      },
      "execution_count": null,
      "outputs": []
    },
    {
      "cell_type": "code",
      "source": [
        ""
      ],
      "metadata": {
        "id": "6Jni2sidgKgu"
      },
      "execution_count": null,
      "outputs": []
    },
    {
      "cell_type": "code",
      "source": [
        "print(maxProductArray([2,3,-2,4]))"
      ],
      "metadata": {
        "colab": {
          "base_uri": "https://localhost:8080/"
        },
        "id": "tg7f9VR03rBR",
        "outputId": "6b0cb6ee-7245-456a-a733-9025aa6d04d3"
      },
      "execution_count": null,
      "outputs": [
        {
          "output_type": "stream",
          "name": "stdout",
          "text": [
            "[0, 0, 2]\n",
            "[0, 1, 6]\n",
            "[0, 2, 6]\n",
            "[0, 3, 6]\n",
            "[1, 1, 6]\n",
            "[1, 2, 6]\n",
            "[1, 3, 6]\n",
            "[2, 2, 6]\n",
            "[2, 3, 6]\n",
            "[3, 3, 6]\n",
            "6\n"
          ]
        }
      ]
    },
    {
      "cell_type": "code",
      "source": [
        "from typing import List\n",
        "from collections import defaultdict\n",
        "def subArraySum(nums:List[int],k):\n",
        "\n",
        "  dic = defaultdict(int)\n",
        "  dic.setdefault(0,1)\n",
        "\n",
        "  summ = 0 \n",
        "  count = 0 \n",
        "\n",
        "  for num in nums:\n",
        "    summ +=num \n",
        "    temp = summ-k \n",
        "\n",
        "    if temp in dic:\n",
        "      count +=dic[temp]\n",
        "    dic[summ] +=1\n",
        "\n",
        "  return count\n",
        "\n",
        " \n",
        "  \n",
        "\n"
      ],
      "metadata": {
        "id": "psfJMld1gLn6"
      },
      "execution_count": null,
      "outputs": []
    },
    {
      "cell_type": "code",
      "source": [
        "from typing import List\n",
        "def plusOne(digits:List[int]):\n",
        "  res = \"\"\n",
        "\n",
        "  for item in digits:\n",
        "    res += str(item)\n",
        "\n",
        "  num = int(res)+1\n",
        "  \n",
        "  for k in str(num):\n",
        "    print(k)\n",
        "\n",
        "  result = [int(i) for i in str(num)]\n",
        "\n",
        "  return result "
      ],
      "metadata": {
        "id": "O8DvV4L1setd"
      },
      "execution_count": null,
      "outputs": []
    },
    {
      "cell_type": "code",
      "source": [
        "print(plusOne([9]))"
      ],
      "metadata": {
        "id": "Rv8EHm70rYu8",
        "outputId": "9ca04e86-8963-4593-efbf-563584a74962",
        "colab": {
          "base_uri": "https://localhost:8080/"
        }
      },
      "execution_count": null,
      "outputs": [
        {
          "output_type": "stream",
          "name": "stdout",
          "text": [
            "1\n",
            "0\n",
            "[1, 0]\n"
          ]
        }
      ]
    },
    {
      "cell_type": "code",
      "source": [
        "print(subArraySum([1,1,1],2))"
      ],
      "metadata": {
        "id": "yCwCnNl4kZiF",
        "outputId": "042a7c40-1204-46b6-bd15-d36e2eb9eb62",
        "colab": {
          "base_uri": "https://localhost:8080/"
        }
      },
      "execution_count": null,
      "outputs": [
        {
          "output_type": "stream",
          "name": "stdout",
          "text": [
            "2\n"
          ]
        }
      ]
    },
    {
      "cell_type": "code",
      "source": [
        "def numberOfIslands(grid):\n",
        "\n",
        "  def dfs(grid,row,col):\n",
        "    if row < 0 or row >= len(grid) or col <0 or col >= len(grid[0]) or grid[row][col] == '0':\n",
        "      return\n",
        "\n",
        "    grid[row][col] = '0'\n",
        "    dfs(grid,row+1,col)\n",
        "    dfs(grid,row-1,col)\n",
        "    dfs(grid,row,col+1)\n",
        "    dfs(grid,row,col-1)\n",
        "\n",
        "  count = 0 \n",
        "\n",
        "  for row in range(len(grid)):\n",
        "    for col in range(len(grid[0])):\n",
        "      if grid[row][col] == '1':\n",
        "        count +=1\n",
        "        dfs(grid,row,col)\n",
        "  \n",
        "  return count "
      ],
      "metadata": {
        "id": "_WHa7B9RRjzn"
      },
      "execution_count": null,
      "outputs": []
    },
    {
      "cell_type": "code",
      "source": [
        "class Node:\n",
        "\n",
        "  def __init__(self,val,next):\n",
        "    self.val = val \n",
        "    self.next = next"
      ],
      "metadata": {
        "id": "yjDCpizqWihI"
      },
      "execution_count": null,
      "outputs": []
    },
    {
      "cell_type": "code",
      "source": [
        "def reverse_linked_list(head:Node):\n",
        "  pass \n"
      ],
      "metadata": {
        "id": "dP6EyhYzWqPc"
      },
      "execution_count": null,
      "outputs": []
    },
    {
      "cell_type": "code",
      "source": [
        "def reverse_int(num):\n",
        "\n",
        "  result = \"\"\n",
        "\n",
        "  if abs(num):\n",
        "    num_str = str(abs(num))\n",
        "    for i in range(len(num_str)-1,-1,-1):\n",
        "      if  num_str[i] !='0':\n",
        "        result += num_str[i]\n",
        "  \n",
        "  if num < 0:\n",
        "    print(result* (-1))\n",
        "    return  result * (-1)\n",
        "  else:\n",
        "    return result \n"
      ],
      "metadata": {
        "id": "pjv6jSs5e4Qx"
      },
      "execution_count": null,
      "outputs": []
    },
    {
      "cell_type": "code",
      "source": [
        "print(reverse_int(-123))"
      ],
      "metadata": {
        "colab": {
          "base_uri": "https://localhost:8080/"
        },
        "id": "Lyc6qmWdgZb6",
        "outputId": "a558ebb9-234e-4ddf-9ed4-cab29920df20"
      },
      "execution_count": null,
      "outputs": [
        {
          "output_type": "stream",
          "name": "stdout",
          "text": [
            "\n",
            "\n"
          ]
        }
      ]
    },
    {
      "cell_type": "code",
      "source": [
        "from typing import List\n",
        "\n",
        "def combination_sum(candidates: List[int], target: int) -> List[List[int]]:\n",
        "  def dfs(nums, start_index, remaining, path):\n",
        "      if remaining == 0:\n",
        "          res.append(path[:])\n",
        "          return\n",
        "      for i in range(start_index, len(nums)):\n",
        "          num = nums[i]\n",
        "          if remaining - num < 0:\n",
        "              continue\n",
        "          dfs(nums, i, remaining - num, path + [num])\n",
        "  res = []\n",
        "  dfs(candidates, 0, target, [])\n",
        "  return res\n"
      ],
      "metadata": {
        "id": "ydKITy9e27rw"
      },
      "execution_count": 1,
      "outputs": []
    },
    {
      "cell_type": "code",
      "source": [
        ""
      ],
      "metadata": {
        "id": "N2H-rZQX_k5A"
      },
      "execution_count": null,
      "outputs": []
    },
    {
      "cell_type": "code",
      "source": [
        "def backspace(s1,s2):\n",
        "  stack1 = []\n",
        "  stack2 = []\n",
        "\n",
        "  for char in s1:\n",
        "    if stack1 and char == '#':\n",
        "      stack1.pop()\n",
        "    else:\n",
        "      stack1.append(char)\n",
        "  \n",
        "  for char in s2:\n",
        "    if stack2 and char == '#':\n",
        "      stack2.pop()\n",
        "    else:\n",
        "      stack2.append(char)\n",
        "  return stack1 == stack2"
      ],
      "metadata": {
        "id": "zU9zTiQPoEWq"
      },
      "execution_count": null,
      "outputs": []
    },
    {
      "cell_type": "code",
      "source": [
        "backspace(\"ab#c\",\"ad#c\")"
      ],
      "metadata": {
        "colab": {
          "base_uri": "https://localhost:8080/"
        },
        "id": "irYhy9MHpHGj",
        "outputId": "dafa0c79-a039-447d-c401-d1fa0c0b69b4"
      },
      "execution_count": null,
      "outputs": [
        {
          "output_type": "execute_result",
          "data": {
            "text/plain": [
              "True"
            ]
          },
          "metadata": {},
          "execution_count": 93
        }
      ]
    },
    {
      "cell_type": "code",
      "source": [
        "def findCommonChars(arr:List[str]):\n",
        "  pass \n"
      ],
      "metadata": {
        "id": "y2BsPVWxqqG0"
      },
      "execution_count": null,
      "outputs": []
    },
    {
      "cell_type": "code",
      "source": [
        "def first_unique_char(s:str):\n",
        "  dic = {}\n",
        "\n",
        "  for char in s:\n",
        "    if char in dic:\n",
        "      dic[char] +=1\n",
        "    else:\n",
        "      dic[char] =1 \n",
        "  \n",
        "  for char in s:\n",
        "    if dic[char] ==1:\n",
        "      return char \n",
        "  return -1\n",
        "  \n",
        "  "
      ],
      "metadata": {
        "id": "LE33fCvrAdqw"
      },
      "execution_count": null,
      "outputs": []
    },
    {
      "cell_type": "code",
      "source": [
        ""
      ],
      "metadata": {
        "id": "3xjm4RcFKQiM"
      },
      "execution_count": null,
      "outputs": []
    },
    {
      "cell_type": "code",
      "source": [
        "print(first_unique_char(\"lldeetcodea\"))"
      ],
      "metadata": {
        "colab": {
          "base_uri": "https://localhost:8080/"
        },
        "id": "G2G0X3mtDlsg",
        "outputId": "9bcfebf7-24ee-45a9-f8c8-7314fa4e9c23"
      },
      "execution_count": null,
      "outputs": [
        {
          "output_type": "stream",
          "name": "stdout",
          "text": [
            "t\n"
          ]
        }
      ]
    },
    {
      "cell_type": "code",
      "source": [
        "def defanging_ip_address(s:str):\n",
        "  result =\"\"\n",
        "  for item in s:\n",
        "    if item != '.':\n",
        "      result += item\n",
        "    else:\n",
        "      result += '[.]'\n",
        "  return result\n"
      ],
      "metadata": {
        "id": "1xT-6FTaKRcS"
      },
      "execution_count": null,
      "outputs": []
    },
    {
      "cell_type": "code",
      "source": [
        "print(defanging_ip_address(\"1.1.1.1\"))"
      ],
      "metadata": {
        "colab": {
          "base_uri": "https://localhost:8080/"
        },
        "id": "iIulSgmbK_L2",
        "outputId": "40e0d2cc-315a-4267-9ccb-cabc4ac74e1a"
      },
      "execution_count": null,
      "outputs": [
        {
          "output_type": "stream",
          "name": "stdout",
          "text": [
            "1[.]1[.]1[.]1\n"
          ]
        }
      ]
    },
    {
      "cell_type": "code",
      "source": [
        "def add_string(num1,num2):\n",
        "  result =[]\n",
        "\n",
        "  i = len(num1)-1\n",
        "  j = len(num2)-1\n",
        "  carry =0 \n",
        "\n",
        "  while i >=0 or j >=0: \n",
        "    summ = carry \n",
        "    if i >=0:\n",
        "      summ += ord(num1[i]-ord('0'))\n",
        "      i -=1\n",
        "    if j>=0:\n",
        "      summ += ord(num2[j]-ord('0'))\n",
        "      j -=1\n",
        "\n",
        "    result.append(summ%10)\n",
        "    carry = summ/10 \n",
        "\n",
        "    i -=1\n",
        "    j -=1\n",
        "\n",
        "  if carry !=0:\n",
        "    result.append(carry)\n",
        "\n",
        "  return \"\".join(str(x) for x in result[::1])\n",
        "  \n",
        "\n",
        "    "
      ],
      "metadata": {
        "id": "5SjP-ak3PPzp"
      },
      "execution_count": null,
      "outputs": []
    },
    {
      "cell_type": "code",
      "source": [
        "def longest_palindrome(s:str):\n",
        "  count =0 \n",
        "  myset = set()\n",
        "\n",
        "  for char in s:\n",
        "    if char in myset:\n",
        "      count +=1\n",
        "      myset.remove(char)\n",
        "    else:\n",
        "      myset.add(char)\n",
        "  \n",
        "  count =count*2 \n",
        "\n",
        "  print(myset)\n",
        "  if len(myset) >0:\n",
        "    count +=1\n",
        "  return count \n"
      ],
      "metadata": {
        "id": "ZPunHsEqX6Yt"
      },
      "execution_count": null,
      "outputs": []
    },
    {
      "cell_type": "code",
      "source": [
        "print(longest_palindrome(\"abccccdd\"))"
      ],
      "metadata": {
        "id": "xQo1Yez6fckt",
        "outputId": "6974d7c2-8b0c-4974-a032-0f14638cf6be",
        "colab": {
          "base_uri": "https://localhost:8080/"
        }
      },
      "execution_count": null,
      "outputs": [
        {
          "output_type": "stream",
          "name": "stdout",
          "text": [
            "{'a', 'b'}\n",
            "7\n"
          ]
        }
      ]
    },
    {
      "cell_type": "code",
      "source": [
        "class Solution:\n",
        "    def removeDuplicates(self, s: str) -> str:\n",
        "      stack = []\n",
        "\n",
        "      for char in s:\n",
        "        if stack and stack[-1] == char:\n",
        "          stack.pop()\n",
        "        else:\n",
        "          stack.append(char)\n",
        "      return \"\".join(stack)\n",
        "    "
      ],
      "metadata": {
        "id": "48t_co5RBeQ6"
      },
      "execution_count": null,
      "outputs": []
    },
    {
      "cell_type": "code",
      "source": [
        "test= Solution()\n",
        "print(test.removeDuplicates(\"azxxzy\"))"
      ],
      "metadata": {
        "id": "BxnwKMOMCgLo",
        "outputId": "837363b9-104a-48c7-fe86-8d61d494fe60",
        "colab": {
          "base_uri": "https://localhost:8080/"
        }
      },
      "execution_count": null,
      "outputs": [
        {
          "output_type": "stream",
          "name": "stdout",
          "text": [
            "ay\n"
          ]
        }
      ]
    },
    {
      "cell_type": "code",
      "source": [
        "def removeDuplicates2(s:str,k:int)->str:\n",
        "  stack = [] #char and count \n",
        "  for char in s:\n",
        "    if stack and stack[-1][0] == char:\n",
        "      stack[-1][1] +=1\n",
        "    else:\n",
        "      stack.append([char,1])\n",
        "\n",
        "    if stack[-1][1] ==k:\n",
        "      stack.pop()\n",
        "      print(stack)\n",
        "    \n",
        "  res = \"\"\n",
        "  for char,count in stack:\n",
        "    res += (char*count)\n",
        "  \n",
        "  return res \n",
        "    "
      ],
      "metadata": {
        "id": "uNV6LhCSCuSi"
      },
      "execution_count": null,
      "outputs": []
    },
    {
      "cell_type": "code",
      "source": [
        ""
      ],
      "metadata": {
        "id": "Hckftj9EEm1B"
      },
      "execution_count": null,
      "outputs": []
    },
    {
      "cell_type": "code",
      "source": [
        "print(removeDuplicates2(\"deeedbbcccbdaa\",3))"
      ],
      "metadata": {
        "id": "kDsr5sTYEIUN",
        "outputId": "5cc38521-df9d-4047-82fd-4240962e157b",
        "colab": {
          "base_uri": "https://localhost:8080/"
        }
      },
      "execution_count": null,
      "outputs": [
        {
          "output_type": "stream",
          "name": "stdout",
          "text": [
            "[['d', 1]]\n",
            "[['d', 2], ['b', 2]]\n",
            "[['d', 2]]\n",
            "[]\n",
            "aa\n"
          ]
        }
      ]
    },
    {
      "cell_type": "code",
      "source": [
        "def compress2(s:str)->str:\n",
        "  stack = [] #char and count \n",
        "  for char in s:\n",
        "    if stack and stack[-1][0]== char:\n",
        "      stack[-1][1] +=1\n",
        "    else:\n",
        "      stack.append([char,1])\n",
        "  \n",
        "  res = \"\"\n",
        "  for char,count in stack:\n",
        "    res +=char \n",
        "    res += str(count)\n",
        "  return res \n",
        "    "
      ],
      "metadata": {
        "id": "CvXlL4KaEnn8"
      },
      "execution_count": null,
      "outputs": []
    },
    {
      "cell_type": "code",
      "source": [
        "print(compress2(\"abcd\"))"
      ],
      "metadata": {
        "id": "3v51vGATEuS4",
        "outputId": "e4997b13-494d-4c75-88ee-e5f5d0d910a9",
        "colab": {
          "base_uri": "https://localhost:8080/"
        }
      },
      "execution_count": null,
      "outputs": [
        {
          "output_type": "stream",
          "name": "stdout",
          "text": [
            "a1b1c1d1\n"
          ]
        }
      ]
    },
    {
      "cell_type": "code",
      "source": [
        "from typing import List\n",
        "from heapq import heappop,heappush\n",
        "def kthLargestNumber(nums:List[str],k:int):\n",
        "\n",
        "  priority = []\n",
        "\n",
        "  for num in nums:\n",
        "    heappush()\n",
        "\n"
      ],
      "metadata": {
        "id": "jicHUVmqN7CO"
      },
      "execution_count": null,
      "outputs": []
    },
    {
      "cell_type": "code",
      "source": [
        "#intervals - key thing is to check for overlaps\n",
        "\"\"\"\n",
        "\"\"\"\n",
        "from typing import List\n",
        "def overlap(x:List[int],y:List[int]):\n",
        "  return not(x[1]<y[0] or y[1]<x[0])\n"
      ],
      "metadata": {
        "id": "M0QSizHO_mLq"
      },
      "execution_count": null,
      "outputs": []
    },
    {
      "cell_type": "code",
      "source": [
        "def meeting_room(intervals):\n",
        "  intervals.sort()\n",
        "  for i in range(len(intervals)-1):\n",
        "    if overlap(intervals[i],intervals[i+1]):\n",
        "      return False \n",
        "  return True "
      ],
      "metadata": {
        "id": "pk3hv-Fyt8yu"
      },
      "execution_count": null,
      "outputs": []
    },
    {
      "cell_type": "code",
      "source": [
        "def merge(intervals):\n",
        "  result = []\n",
        "  intervals.sort()\n",
        "  for sublist in intervals:\n",
        "    if not result or not overlap(result[-1],sublist):\n",
        "      result.append(sublist)\n",
        "    else:\n",
        "      result[-1][1] = max(result[-1][1],sublist[1])\n",
        "  return result"
      ],
      "metadata": {
        "id": "Wlb9_ZRcuxn3"
      },
      "execution_count": null,
      "outputs": []
    },
    {
      "cell_type": "code",
      "source": [
        "def removeDuplicateFromSortedList(nums:List[int]):\n",
        "  result = []\n",
        "  window = 0 \n",
        "  for i in range(len(nums)):\n",
        "    if nums[window] != nums[i] or i == len(nums)-1:\n",
        "      result.append(nums[window])\n",
        "\n",
        "      window = i\n",
        "    else:\n",
        "      continue \n",
        "  return result  \n"
      ],
      "metadata": {
        "id": "rJZ0ZFJv1ELl"
      },
      "execution_count": null,
      "outputs": []
    },
    {
      "cell_type": "code",
      "source": [
        "class Node():\n",
        "  def __init__(self,val,next=None):\n",
        "    self.val = val\n",
        "    self.next = next"
      ],
      "metadata": {
        "id": "_QF0FLzm2iD8"
      },
      "execution_count": null,
      "outputs": []
    },
    {
      "cell_type": "code",
      "source": [
        "def find_all_anagrams(s:str,p:str):\n",
        "  result = []\n",
        "\n",
        "  ns = len(s)\n",
        "  np = len(p)\n",
        "  dic_s = [0]*26\n",
        "  dic_p = [0]*26\n",
        "\n",
        "  if ns < np:\n",
        "    return []\n",
        "  for char in p:\n",
        "    dic_p[ord(char)-ord('a')] +=1\n",
        "  \n",
        "  for i in range(len(s)):\n",
        "    dic_s[ord(s[i])-ord('a')] +=1\n",
        "\n",
        "    if i >= np:\n",
        "      dic_s[ord(s[i-np]-ord('a'))] -=1\n",
        "\n",
        "    if dic_s == dic_p:\n",
        "      result.append(i-np+1)\n",
        "  return result\n"
      ],
      "metadata": {
        "id": "Yz42L75l8RvC"
      },
      "execution_count": null,
      "outputs": []
    },
    {
      "cell_type": "code",
      "source": [
        "def moveZeros(nums):\n",
        "  index = 0 \n",
        "  for i in range(len(nums)):\n",
        "    if nums[i] !=0:\n",
        "      nums[index] = nums[i]\n",
        "      index +=1\n",
        "  \n",
        "  for i in range(index,len(nums)):\n",
        "    nums[i] = 0 \n",
        "\n",
        "  return nums "
      ],
      "metadata": {
        "id": "fa43Psz7jEIV"
      },
      "execution_count": null,
      "outputs": []
    },
    {
      "cell_type": "code",
      "source": [
        "def reverseList(head):\n",
        "  prev = None \n",
        "  current = head \n",
        "  while current:\n",
        "    temp = current.next\n",
        "    current.next = prev\n",
        "    prev= current \n",
        "    current = temp \n",
        "  return prev \n",
        "  "
      ],
      "metadata": {
        "id": "r3_-Rm-EkbZ4"
      },
      "execution_count": null,
      "outputs": []
    },
    {
      "cell_type": "code",
      "source": [
        "def palindromeNumber(x:int):\n",
        "\n",
        "  if x <0 or (x !=0 and x%10==0):\n",
        "    return False\n",
        "\n",
        "  num = x \n",
        "  y = 0 \n",
        "\n",
        "  while num !=0:\n",
        "    rem = num%10\n",
        "    num = num/10\n",
        "    y = y*10+rem \n",
        "\n",
        "  return y == x"
      ],
      "metadata": {
        "id": "w394Zo85Nasj"
      },
      "execution_count": null,
      "outputs": []
    },
    {
      "cell_type": "code",
      "source": [
        "def wordSearch(board,word):\n",
        "\n",
        "  def dfs(board,row,col,word):\n",
        "    if len(board) ==0:\n",
        "      return True \n",
        "    if row < 0 or row >=len(board) or col <0 or col >= len(board[0]) or board[row][col] != word[0]:\n",
        "      return False \n",
        "\n",
        "    temp = board[row][col]\n",
        "    board[row][col] = ' '\n",
        "\n",
        "    if dfs(board,row+1,col,word[1:]) or dfs(board,row+1,col,word[1:]) or dfs(board,row+1,col,word[1:]) or dfs(board,row+1,col,word[1:]):\n",
        "      return True \n",
        "    \n",
        "    board[row][col] = temp \n",
        "\n",
        "    return False \n",
        "    \n",
        "  for row in range(len(board)):\n",
        "    for col in range(len(board[0])):\n",
        "      if board[row][col] == word[0] and dfs(board,row,col,word):\n",
        "        return True \n",
        "  return False "
      ],
      "metadata": {
        "id": "UUstRPOkR34-"
      },
      "execution_count": null,
      "outputs": []
    },
    {
      "cell_type": "code",
      "source": [
        "def subArraySum(nums,k):\n",
        "  dic = defaultdict(int)\n",
        "  dic.setdefault(0,1)\n",
        "  summ = 0\n",
        "  count = 0\n",
        "\n",
        "  for num in nums:\n",
        "    summ += num \n",
        "    temp = summ -k \n",
        "\n",
        "    if temp in dic:\n",
        "      count +=dic.get(temp)\n",
        "    dic[summ] +=1\n",
        "  \n",
        "  return count \n",
        "      "
      ],
      "metadata": {
        "id": "3BKFCGcGqqEQ"
      },
      "execution_count": null,
      "outputs": []
    },
    {
      "cell_type": "code",
      "source": [
        "def houseRobber(nums):\n",
        "\n",
        "  if len(nums) == 1:\n",
        "    return nums[0]\n",
        "  if len(nums) == 2:\n",
        "    return max(nums[0],nums[1])\n",
        "  dp = [nums[0],max(nums[0],nums[1])]\n",
        "\n",
        "  for i in range(2,len(nums)):\n",
        "    dp.append(max(dp[i-2]+nums[i],dp[i-1]))\n",
        "  \n",
        "  return dp.pop()"
      ],
      "metadata": {
        "id": "oD1YnV3Orfpl"
      },
      "execution_count": null,
      "outputs": []
    },
    {
      "cell_type": "code",
      "source": [
        "def removeElement(head:Node,val:int):\n",
        "  dummy = Node(0)\n",
        "  result = dummy \n",
        "  dummy.next = head \n",
        "\n",
        "  while head is not None: \n",
        "    if head.val == val:\n",
        "      head = head.next \n",
        "      dummy.next = head\n",
        "    else:\n",
        "      head = head.next \n",
        "      dummy = dummy.next\n",
        "  return result.next \n"
      ],
      "metadata": {
        "colab": {
          "base_uri": "https://localhost:8080/",
          "height": 240
        },
        "id": "mT6vdoENsFvX",
        "outputId": "1bbf3934-e1dc-4257-9889-8d9b12ca4a01"
      },
      "execution_count": null,
      "outputs": [
        {
          "output_type": "error",
          "ename": "NameError",
          "evalue": "ignored",
          "traceback": [
            "\u001b[0;31m---------------------------------------------------------------------------\u001b[0m",
            "\u001b[0;31mNameError\u001b[0m                                 Traceback (most recent call last)",
            "\u001b[0;32m<ipython-input-5-c27d03b1d00d>\u001b[0m in \u001b[0;36m<module>\u001b[0;34m()\u001b[0m\n\u001b[0;32m----> 1\u001b[0;31m \u001b[0;32mdef\u001b[0m \u001b[0mremoveElement\u001b[0m\u001b[0;34m(\u001b[0m\u001b[0mhead\u001b[0m\u001b[0;34m:\u001b[0m\u001b[0mNode\u001b[0m\u001b[0;34m,\u001b[0m\u001b[0mval\u001b[0m\u001b[0;34m:\u001b[0m\u001b[0mint\u001b[0m\u001b[0;34m)\u001b[0m\u001b[0;34m:\u001b[0m\u001b[0;34m\u001b[0m\u001b[0;34m\u001b[0m\u001b[0m\n\u001b[0m\u001b[1;32m      2\u001b[0m   \u001b[0mdummy\u001b[0m \u001b[0;34m=\u001b[0m \u001b[0mNode\u001b[0m\u001b[0;34m(\u001b[0m\u001b[0;36m0\u001b[0m\u001b[0;34m)\u001b[0m\u001b[0;34m\u001b[0m\u001b[0;34m\u001b[0m\u001b[0m\n\u001b[1;32m      3\u001b[0m   \u001b[0mresult\u001b[0m \u001b[0;34m=\u001b[0m \u001b[0mdummy\u001b[0m\u001b[0;34m\u001b[0m\u001b[0;34m\u001b[0m\u001b[0m\n\u001b[1;32m      4\u001b[0m   \u001b[0mdummy\u001b[0m\u001b[0;34m.\u001b[0m\u001b[0mnext\u001b[0m \u001b[0;34m=\u001b[0m \u001b[0mhead\u001b[0m\u001b[0;34m\u001b[0m\u001b[0;34m\u001b[0m\u001b[0m\n\u001b[1;32m      5\u001b[0m \u001b[0;34m\u001b[0m\u001b[0m\n",
            "\u001b[0;31mNameError\u001b[0m: name 'Node' is not defined"
          ]
        }
      ]
    },
    {
      "cell_type": "code",
      "source": [
        "def rotateArray(nums,k):\n",
        "\n",
        "  k = k%len(nums)\n",
        "  def helper(nums,left,right):\n",
        "    while left < right:\n",
        "      nums[right],nums[left] = nums[left],nums[right]\n",
        "      left +=1\n",
        "      right -=1\n",
        "  helper(nums,0,len(nums)-1)\n",
        "  helper(nums,0,k-1)\n",
        "  helper(nums,k,len(nums)-1)\n",
        "\n",
        "  return nums"
      ],
      "metadata": {
        "id": "5SlHjbgdtnpk"
      },
      "execution_count": null,
      "outputs": []
    },
    {
      "cell_type": "code",
      "source": [
        "def maxProfit(prices):\n",
        "  profit = 0\n",
        "  cheapest_price = prices[0]\n",
        "  for price in prices:\n",
        "    cheapest_price = min(cheapest_price,price)\n",
        "    currentProfit = price-cheapest_price\n",
        "    profit = max(profit,currentProfit)\n",
        "  return profit"
      ],
      "metadata": {
        "id": "o4_ZwLn9s_pC"
      },
      "execution_count": null,
      "outputs": []
    },
    {
      "cell_type": "code",
      "source": [
        "def palindromeLinkedList(head:Node):\n",
        "\n",
        "  res = []\n",
        "\n",
        "  while head is not None:\n",
        "    res.append(head.val)\n",
        "    head = head.next \n",
        "  \n",
        "  left =0\n",
        "  right = len(res)-1\n",
        "  while left <right:\n",
        "    if res[left] != res[right]:\n",
        "      return False \n",
        "\n",
        "    left +=1\n",
        "    right -=1\n",
        "  return True "
      ],
      "metadata": {
        "id": "jqx1_q7aOYys",
        "colab": {
          "base_uri": "https://localhost:8080/",
          "height": 240
        },
        "outputId": "a930d666-126d-4e5b-bf52-3ce69cfd977d"
      },
      "execution_count": null,
      "outputs": [
        {
          "output_type": "error",
          "ename": "NameError",
          "evalue": "ignored",
          "traceback": [
            "\u001b[0;31m---------------------------------------------------------------------------\u001b[0m",
            "\u001b[0;31mNameError\u001b[0m                                 Traceback (most recent call last)",
            "\u001b[0;32m<ipython-input-7-a8f3b783dbae>\u001b[0m in \u001b[0;36m<module>\u001b[0;34m()\u001b[0m\n\u001b[0;32m----> 1\u001b[0;31m \u001b[0;32mdef\u001b[0m \u001b[0mpalindromeLinkedList\u001b[0m\u001b[0;34m(\u001b[0m\u001b[0mhead\u001b[0m\u001b[0;34m:\u001b[0m\u001b[0mNode\u001b[0m\u001b[0;34m)\u001b[0m\u001b[0;34m:\u001b[0m\u001b[0;34m\u001b[0m\u001b[0;34m\u001b[0m\u001b[0m\n\u001b[0m\u001b[1;32m      2\u001b[0m \u001b[0;34m\u001b[0m\u001b[0m\n\u001b[1;32m      3\u001b[0m   \u001b[0mres\u001b[0m \u001b[0;34m=\u001b[0m \u001b[0;34m[\u001b[0m\u001b[0;34m]\u001b[0m\u001b[0;34m\u001b[0m\u001b[0;34m\u001b[0m\u001b[0m\n\u001b[1;32m      4\u001b[0m \u001b[0;34m\u001b[0m\u001b[0m\n\u001b[1;32m      5\u001b[0m   \u001b[0;32mwhile\u001b[0m \u001b[0mhead\u001b[0m \u001b[0;32mis\u001b[0m \u001b[0;32mnot\u001b[0m \u001b[0;32mNone\u001b[0m\u001b[0;34m:\u001b[0m\u001b[0;34m\u001b[0m\u001b[0;34m\u001b[0m\u001b[0m\n",
            "\u001b[0;31mNameError\u001b[0m: name 'Node' is not defined"
          ]
        }
      ]
    },
    {
      "cell_type": "code",
      "source": [
        "def maxSubArray(nums):\n",
        "  maxSum = nums[0]\n",
        "  currentSum = nums[0]\n",
        "\n",
        "  for i in range(1,len(nums)):\n",
        "    currentSum = max(currentSum+nums[i])\n",
        "    maxSum = max(currentSum,maxSum)\n",
        "  \n",
        "  return maxSum"
      ],
      "metadata": {
        "id": "oiD0ERPvxldp"
      },
      "execution_count": null,
      "outputs": []
    },
    {
      "cell_type": "code",
      "source": [
        "def canAttendMeetings(intervals):\n",
        "  intervals.sort()\n",
        "\n",
        "  def isOverlap(x,y):\n",
        "    return not (x[1]<y[0] or y[1]<x[0])\n",
        "\n",
        "  for i in range(len(intervals)-1):\n",
        "    if isOverlap(intervals[i],intervals[i+1]):\n",
        "      return False \n",
        "  return True "
      ],
      "metadata": {
        "id": "XGPQ7Ikm1wpG"
      },
      "execution_count": null,
      "outputs": []
    },
    {
      "cell_type": "code",
      "source": [
        "class TreeNode:\n",
        "  def __init__(self,left=None,right=None,val=0) -> None:\n",
        "      self.left = left\n",
        "      self.right = right \n",
        "      "
      ],
      "metadata": {
        "id": "HsDcPsqW3RTB"
      },
      "execution_count": null,
      "outputs": []
    },
    {
      "cell_type": "code",
      "source": [
        "from math import inf \n",
        "def validateBST(root:TreeNode):\n",
        "\n",
        "  def dfs(root,min_val,max_val):\n",
        "    if not root:\n",
        "      return True \n",
        "    if root.val <= min_val and root.val >= max_val:\n",
        "      return False \n",
        "    return dfs(root.left,min_val,root.val) and dfs(root.right,root.val,max_val)\n",
        "  \n",
        "  return dfs(root,-inf,inf)"
      ],
      "metadata": {
        "id": "SOo8fYfH4BlM"
      },
      "execution_count": null,
      "outputs": []
    },
    {
      "cell_type": "code",
      "source": [
        "if __name__ == '__main__':\n",
        "  intervals = [[1,3],[2,6],[8,10],[15,18]]\n",
        "  interval2 = [[0,30],[5,10],[15,20]]\n",
        "  #print(merge(intervals))\n",
        "  #print(meeting_room(interval2))\n",
        "  input = [0,0,1,1,1,2,2]\n",
        "  #print(removeDuplicateFromSortedList(input))\n",
        "\n",
        "  print(moveZeros([1,0,2,0,0,7]))"
      ],
      "metadata": {
        "colab": {
          "base_uri": "https://localhost:8080/"
        },
        "id": "QMj5HT9wr9yu",
        "outputId": "3b1eb991-9a82-46f2-e1c6-b3f3e0a3d47a"
      },
      "execution_count": null,
      "outputs": [
        {
          "output_type": "stream",
          "name": "stdout",
          "text": [
            "[1, 2, 7, 0, 0, 0]\n"
          ]
        }
      ]
    },
    {
      "cell_type": "code",
      "source": [
        "class BacktrackingSolutions():\n",
        "\n",
        "  def permute(self,s:str):\n",
        "\n",
        "    def dfs(self,path,used,res):\n",
        "      if len(path) == len(s):\n",
        "        res.append(path[:])\n",
        "        return \n",
        "      for i,char in enumerate(s):\n",
        "        if used[i]:\n",
        "          continue\n",
        "        path.append(char)\n",
        "        used[i] = True \n",
        "\n",
        "        dfs(path,used,res)\n",
        "        path.pop()\n",
        "        used[i] = False \n",
        "    res= []\n",
        "    self.dfs([],[False]*len(s),res)\n",
        "\n",
        "    return res\n",
        "\n",
        "  def wordBreak(self,s,dictWord):\n",
        "\n",
        "    def dfs(i):\n",
        "      if i == len(s):\n",
        "        return True\n",
        "\n",
        "      for word in dictWord:\n",
        "        if s[i:].startswith(word):\n",
        "          if dfs(i+len(word)):\n",
        "            return True \n",
        "      return False \n",
        "\n",
        "    dfs(0)\n",
        "\n",
        "        "
      ],
      "metadata": {
        "id": "tvxcAnHSsjgV"
      },
      "execution_count": null,
      "outputs": []
    },
    {
      "cell_type": "code",
      "source": [
        "class QueueUsingStack():\n",
        "\n",
        "  def __init__(self) -> None:\n",
        "      self.stack = []\n",
        "      self.queue = []\n",
        "\n",
        "  def push(self,x):\n",
        "    self.stack.append(x)\n",
        "  \n",
        "  def peek(self):\n",
        "    if not self.queue:\n",
        "      while self.stack:\n",
        "        self.queue.append(self.stack.pop())\n",
        "    return self.queue[-1]\n",
        "  \n",
        "  def pop(self):\n",
        "    self.peek()\n",
        "    self.queue.pop()"
      ],
      "metadata": {
        "id": "QDiLpb3F9xWs"
      },
      "execution_count": null,
      "outputs": []
    },
    {
      "cell_type": "code",
      "source": [
        "def uniquePath(m: int, n: int) -> int:\n",
        "  dp = [[1 for col in range(m)] for row in range(n)]\n",
        "  for row in range(1, n):\n",
        "      for col in range(1, m):\n",
        "          dp[row][col] = dp[row][col - 1] + dp[row - 1][col]\n",
        "\n",
        "  return dp[-1][-1]"
      ],
      "metadata": {
        "id": "H5IiYrOAAnht"
      },
      "execution_count": null,
      "outputs": []
    },
    {
      "cell_type": "code",
      "source": [
        "class BinarySearch:\n",
        "\n",
        "  def searchInRotatedSortedArray(nums,target):\n",
        "\n",
        "    left = 0\n",
        "    right = len(nums)-1\n",
        "\n",
        "    while left <= right:\n",
        "      mid = (right+left)//2 \n",
        "\n",
        "      if nums[mid] == target:\n",
        "        return mid \n",
        "      else:\n",
        "        if nums[mid] > nums[left]:\n",
        "          if target <= nums[mid] and target >= nums[left]:\n",
        "            right = mid-1\n",
        "          else:\n",
        "            left = mid+1\n",
        "        else:\n",
        "          if target >= nums[mid] and target <= nums[right]:\n",
        "            left = mid+1\n",
        "          else:\n",
        "            right = mid-1\n",
        "    return -1 "
      ],
      "metadata": {
        "id": "Wzyadbkz8J23"
      },
      "execution_count": null,
      "outputs": []
    },
    {
      "cell_type": "code",
      "source": [
        "def findMissingNumber(nums):\n",
        "  num_set = set(nums)\n",
        "\n",
        "  n = len(nums)+1\n",
        "\n",
        "  for i in range(n):\n",
        "    if i not in num_set:\n",
        "      return i \n",
        "  return -1"
      ],
      "metadata": {
        "id": "HJYWm8h4Hxca"
      },
      "execution_count": null,
      "outputs": []
    },
    {
      "cell_type": "code",
      "source": [
        "def isAnagram(s1,s2):\n",
        "  dic= [0]*26 \n",
        "\n",
        "  for char in s1:\n",
        "    ch = ord(char)-ord('a')\n",
        "    dic[ch] +=1\n",
        "\n",
        "  for char in s2:\n",
        "    ch = ord(char)-ord('a')\n",
        "    dic[ch] -=1\n",
        "  \n",
        "  for item in dic:\n",
        "    if item !=0:\n",
        "      return False \n",
        "  return True "
      ],
      "metadata": {
        "id": "Vq9mTPwKIRo7"
      },
      "execution_count": null,
      "outputs": []
    },
    {
      "cell_type": "code",
      "source": [
        "if __name__ == '__main__':\n",
        "  print(isAnagram(\"abbbaa\",\"bbaab\"))"
      ],
      "metadata": {
        "colab": {
          "base_uri": "https://localhost:8080/"
        },
        "id": "uYN2MPjbIqsr",
        "outputId": "dc8a18e1-7786-4b48-dc2d-6a6c26c6cac3"
      },
      "execution_count": null,
      "outputs": [
        {
          "output_type": "stream",
          "name": "stdout",
          "text": [
            "False\n"
          ]
        }
      ]
    },
    {
      "cell_type": "code",
      "source": [
        "def validateSudoku(board):\n",
        "\n",
        "  myset = set()\n",
        "\n",
        "  for row in range(len(board)):\n",
        "    for col in range(len(board[0])):\n",
        "      current = board[row][col]\n",
        "      if current != \".\":\n",
        "\n",
        "        if \"row\"+row+current not in myset:\n",
        "          pass \n"
      ],
      "metadata": {
        "id": "Bx82k1kWKvyX"
      },
      "execution_count": null,
      "outputs": []
    },
    {
      "cell_type": "code",
      "source": [
        "def addTwoNumbers(l1,l2):\n",
        "  dummy = Node()\n",
        "  result = dummy \n",
        "\n",
        "  carry =0 \n",
        "\n",
        "  while l1 is not None or l2 is not None or carry !=0:\n",
        "    if l1:\n",
        "      carry +=l1.val \n",
        "      l1 = l1.next\n",
        "    if l2:\n",
        "      carry +=l2.val\n",
        "      l2 = l2.next\n",
        "    \n",
        "    dummy.next = Node(carry%10)\n",
        "    carry = carry/10 \n",
        "\n",
        "    dummy = dummy.next \n",
        "\n",
        "    return result.next "
      ],
      "metadata": {
        "id": "SRWlcCfuMFp2"
      },
      "execution_count": null,
      "outputs": []
    },
    {
      "cell_type": "code",
      "source": [
        "from collections import Counter\n",
        "def frequencySort(s:str):\n",
        "  dic = Counter(s)\n",
        "  s = list(s)\n",
        "\n",
        "  s.sort(key=lambda x:(-dic[x],x))\n",
        "\n",
        "  return \"\".join(s)"
      ],
      "metadata": {
        "id": "w9iJSUYRNQQ1"
      },
      "execution_count": null,
      "outputs": []
    },
    {
      "cell_type": "code",
      "source": [
        "def transposeMatrix(A):\n",
        "  row = len(A)\n",
        "  col = len(A[0])\n",
        "  output = A[col][row]\n",
        "\n",
        "  for row in range(len(A)):\n",
        "    for col in range(len(A[0])):\n",
        "      output[col][row] = A[row][col]\n",
        "  return output "
      ],
      "metadata": {
        "id": "AhEdePSBOXK8"
      },
      "execution_count": null,
      "outputs": []
    },
    {
      "cell_type": "code",
      "source": [
        "def addString(num1:str,num2:str):\n",
        "\n",
        "  l1 = len(num1)-1\n",
        "  l2 = len(num2)-1\n",
        "  res = []\n",
        "  carry =0 \n",
        "\n",
        "  while l1>=0 or l2>=0:\n",
        "    summ = carry\n",
        "    if l1>=0:\n",
        "      summ += ord(num1[l1]) - ord('0')\n",
        "    if l2>=0:\n",
        "      summ +=ord(num2[l2]) - ord('0')\n",
        "    \n",
        "    res.append(summ%10)\n",
        "    carry = summ//10\n",
        "\n",
        "    l1 -=1\n",
        "    l2 -=1\n",
        "  \n",
        "  if carry !=0:\n",
        "    res.append(carry)\n",
        "  \n",
        "  return \"\".join(str(x) for x in res[::-1])\n",
        "\n"
      ],
      "metadata": {
        "id": "m4gsEafjQ46o"
      },
      "execution_count": null,
      "outputs": []
    },
    {
      "cell_type": "code",
      "source": [
        "def jumpGame(nums):\n",
        "  last = len(nums)-1\n",
        "  for i in range(len(nums)-1,-1,-1):\n",
        "    if i+nums[i] >= last:\n",
        "      last = i \n",
        "  return last ==0\n"
      ],
      "metadata": {
        "id": "Le7G6lPnSE7a"
      },
      "execution_count": null,
      "outputs": []
    },
    {
      "cell_type": "code",
      "source": [
        "import json\n",
        "def serializationOfObjects():\n",
        "  f= open('sample_data/data.json','w')\n",
        "  dic = {\"name\":\"Victor\",\"age\":20,\"Gender\":\"Male\",\"marks\":75}\n",
        "  json.dump(dic,f)\n"
      ],
      "metadata": {
        "id": "5Lb8ZzLZTWFK"
      },
      "execution_count": null,
      "outputs": []
    },
    {
      "cell_type": "code",
      "source": [
        "from sortedcontainers import SortedList\n",
        "class MedianFinder:\n",
        "    def __init__(self):\n",
        "        self.a = SortedList()\n",
        "        self.size = 0\n",
        "    def addNum(self, num: int) -> None:\n",
        "        self.a.add(num)\n",
        "        self.size += 1\n",
        "    def findMedian(self) -> float:\n",
        "        if self.size % 2 == 0:\n",
        "            return (self.a[self.size // 2 - 1] + self.a[self.size // 2]) / 2\n",
        "        else:\n",
        "            return self.a[self.size // 2]"
      ],
      "metadata": {
        "id": "_9OeA9tyU6XG"
      },
      "execution_count": null,
      "outputs": []
    },
    {
      "cell_type": "code",
      "source": [
        "from math import inf\n",
        "def minimumSubArraySum(nums,target):\n",
        "  summ =0 \n",
        "  window= 0 \n",
        "  size = inf\n",
        "\n",
        "  for i in range(len(nums)):\n",
        "    summ += nums[i]\n",
        "    while summ >= target:\n",
        "      size= min(size,i-window+1)\n",
        "      summ -=nums[window]\n",
        "      window +=1\n",
        "  \n",
        "  if size == inf:\n",
        "    return 0 \n",
        "  else:\n",
        "    return size \n",
        "\n"
      ],
      "metadata": {
        "id": "zw3bbk00VbGO"
      },
      "execution_count": null,
      "outputs": []
    },
    {
      "cell_type": "code",
      "source": [
        "def os_library():\n",
        "    import os\n",
        "    for root, directory, file in os.walk(os.getcwd()):\n",
        "        for f in file:\n",
        "            if f.startswith(\"p\") or f.startswith(\"f\"):\n",
        "                print(f)\n",
        "\n",
        "    print(os.listdir(os.getcwd()))\n",
        "    print(os.environ.get(\"HOME\"))\n",
        "    # print(file)\n",
        "\n"
      ],
      "metadata": {
        "id": "bN0NvHAwXHmr"
      },
      "execution_count": null,
      "outputs": []
    },
    {
      "cell_type": "code",
      "source": [
        "import os\n",
        "print(os.getcwd())"
      ],
      "metadata": {
        "colab": {
          "base_uri": "https://localhost:8080/"
        },
        "id": "Jrt1M2pSXRAK",
        "outputId": "fdf7972a-3e83-475a-c979-4c82e5b071f6"
      },
      "execution_count": null,
      "outputs": [
        {
          "output_type": "stream",
          "name": "stdout",
          "text": [
            "/content\n"
          ]
        }
      ]
    },
    {
      "cell_type": "code",
      "source": [
        "def minimum_in_rotated_sorted_array(nums):\n",
        "  left =0\n",
        "  right = len(nums)-1\n",
        "\n",
        "  while left <= right:\n",
        "    mid = (right+left)//2\n",
        "\n",
        "    if nums[mid] <nums[right]:\n",
        "      right = mid \n",
        "    else:\n",
        "      left = mid \n",
        "    return min(nums[left],nums[right])\n"
      ],
      "metadata": {
        "id": "nEUewecdYrX_"
      },
      "execution_count": null,
      "outputs": []
    },
    {
      "cell_type": "code",
      "source": [
        "def powerOfTwo(n):\n",
        "  i = 1\n",
        "\n",
        "  while i < n:\n",
        "    i *=2\n",
        "\n",
        "  return i ==n "
      ],
      "metadata": {
        "id": "rmzrYQ-ba5hd"
      },
      "execution_count": null,
      "outputs": []
    },
    {
      "cell_type": "code",
      "source": [
        "def peakElement(nums):\n",
        "  left =0 \n",
        "  right = len(nums)-1\n",
        "  while left <= right:\n",
        "    mid = (left+right)//2\n",
        "\n",
        "    if nums[mid] < nums[mid+1]:\n",
        "      left = mid+1\n",
        "    else:\n",
        "      right = mid \n",
        "  return left \n"
      ],
      "metadata": {
        "id": "3-ylb8X5auhr"
      },
      "execution_count": null,
      "outputs": []
    },
    {
      "cell_type": "code",
      "source": [
        "from math import inf\n",
        "class Solution:\n",
        "  def reverse(self, x: int) -> int:\n",
        "    s = str(abs(x))\n",
        "    reversed = int(s[::-1])  \n",
        "    if reversed > 2147483647:\n",
        "        return 0  \n",
        "    return reversed if x >0 else (reversed * -1)\n",
        "    "
      ],
      "metadata": {
        "id": "a9GnfBf8c2do"
      },
      "execution_count": null,
      "outputs": []
    },
    {
      "cell_type": "code",
      "source": [
        "from typing import List\n",
        "def plusOneSolution(digits:List[int]):\n",
        "  num = int(\"\".join(str(x) for x in digits))\n",
        "  num2 = num+1\n",
        "  res = [int(i) for i in str(num2)]\n",
        "  return res "
      ],
      "metadata": {
        "id": "XzYmX6XJnPEl"
      },
      "execution_count": null,
      "outputs": []
    },
    {
      "cell_type": "markdown",
      "source": [
        "The finalize() method is a protected and non-static method of the java.lang.Object class and is also sometimes called the finalizer. The finalize() method is invoked by the JVM when an object is garbage collected. A user can override the finalize() in his class to dispose of system resources or to perform cleanup tasks.\n",
        "\n",
        "**Generics **\n",
        "Generics help with the following use-cases\n",
        "\n",
        "Enforcing stronger type checking at compile time for greater type-safety\n",
        "\n",
        "Elimination of casts\n",
        "\n",
        "Implementation of generic algorithms\n",
        "\n",
        "\n",
        "\n",
        "A mutex allows only a single thread to access a resource. It forces competing threads to serialize their access for the requested resource.\n",
        "\n",
        "Semaphore, on the other hand, is used for limiting access to a collection of resources. Think of semaphore as having a limited number of permits to give out. If a semaphore has given out all the permits it has, then any new thread that comes along requesting for a permit will be blocked, till an earlier thread with a permit returns it to the semaphor\n",
        "\n",
        "\n",
        "\n",
        "class Solution:\n",
        "    def findPeakElement(self, nums: List[int]) -> int:\n",
        "        \n",
        "        left =0\n",
        "        right = len(nums)-1\n",
        "        while left < right:\n",
        "            mid = (left+right)//2\n",
        "            if nums[mid] < nums[mid+1]:\n",
        "                left = mid+1\n",
        "            else:\n",
        "                right = mid\n",
        "        \n",
        "        return left \n",
        "        \n",
        "\n",
        "  class Solution:\n",
        "    def findMin(self, nums: List[int]) -> int:\n",
        "        \n",
        "        right = len(nums)-1\n",
        "        left =0\n",
        "        \n",
        "        while left+1 < right:\n",
        "            mid = (left+right)//2\n",
        "            \n",
        "            if nums[mid] < nums[right]:\n",
        "                right = mid\n",
        "            else:\n",
        "                left = mid\n",
        "        return min(nums[left],nums[right]\n",
        "\n",
        "class Solution:\n",
        "    def findAnagrams(self, s: str, p: str) -> List[int]:\n",
        "        ns, np = len(s), len(p)\n",
        "        output = []\n",
        "        if ns < np:\n",
        "            return []\n",
        "        p_count, s_count = [0] * 26, [0] * 26 \n",
        "        for ch in p:\n",
        "            p_count[ord(ch) - ord('a')] += 1\n",
        "        \n",
        "        for i in range(ns):\n",
        "            s_count[ord(s[i]) - ord('a')] += 1\n",
        "            \n",
        "            if i >= np:\n",
        "                s_count[ord(s[i - np]) - ord('a')] -= 1\n",
        "            if p_count == s_count:\n",
        "                output.append(i - np + 1)\n",
        "        \n",
        "        return output"
      ],
      "metadata": {
        "id": "BBX0kbiHuziN"
      }
    },
    {
      "cell_type": "markdown",
      "source": [
        "Java Reflection makes it possible to inspect classes, interfaces, fields, and methods at runtime, without knowing the names of the classes, methods etc. at compile time. It is also possible to instantiate new objects, invoke methods and get/set field values using reflection.\n",
        "\n",
        "\n",
        "\n",
        "\n",
        "When to use it?\n",
        "Anonymous class is only created for one-time use, we cannot reuse it. Let us consider some scenario\n",
        "\n",
        "When your only purpose is to override a method.\n",
        "When you want to implement any functional interface. (We will see it with the help of real-world implementation)."
      ],
      "metadata": {
        "id": "wA_XoYSEB5zs"
      }
    },
    {
      "cell_type": "markdown",
      "source": [
        "Explain the garbage collection process in Java.\n",
        "\n",
        "Whenever a new object is created, it is allocated its space in the Eden memory. The Eden memory is limited and fills up fast. Initially, both the survivor spaces are empty. Let's call them survivor space A and B to distinguish between them.\n",
        "\n",
        "When the garbage collector runs for the first time, it marks alive objects in Eden memory and any unused objects are collected as garbage. The objects surviving the garbage collector run are placed in one of the survivor spaces. For our example let's imagine they are placed in survivor space A.\n",
        "\n",
        "On the second run of the GC the surviving objects from the Eden memory and the survivor memory A are placed in the unused survivor memory B."
      ],
      "metadata": {
        "id": "fTVuXosDB0nF"
      }
    },
    {
      "cell_type": "markdown",
      "source": [
        ""
      ],
      "metadata": {
        "id": "FvSd1CsXBnVY"
      }
    },
    {
      "cell_type": "code",
      "source": [
        "def firstBadVersion(n:int):\n",
        "  def isBadVersion(version:int):\n",
        "    pass \n",
        "  \n",
        "  left = 1\n",
        "  right = n \n",
        "\n",
        "  while left < right:\n",
        "    mid = (left+right)//2\n",
        "    if not isBadVersion(mid):\n",
        "      lelft = mid+1\n",
        "    else:\n",
        "      right = mid \n",
        "  return left "
      ],
      "metadata": {
        "id": "F2p1DQt1wG1S"
      },
      "execution_count": null,
      "outputs": []
    },
    {
      "cell_type": "code",
      "source": [
        ""
      ],
      "metadata": {
        "id": "_ceesvATyAha"
      },
      "execution_count": null,
      "outputs": []
    },
    {
      "cell_type": "markdown",
      "source": [
        "Java’s most fundamental construct for thread synchronization is the synchronized keyword. It can be used to restrict access to critical sections one thread at a time.\n",
        "\n",
        "Each object in Java has an entity associated with it called the monitor lock or just monitor. Think of it as an exclusive lock. Once a thread gets hold of the monitor of an object, it has exclusive access to all the methods marked as synchronized. No other thread will be allowed to invoke a method on the object that is marked as synchronized and will block, till the first thread releases the monitor which is equivalent of the first thread exiting the synchronized method."
      ],
      "metadata": {
        "id": "qKm3kEFABv30"
      }
    },
    {
      "cell_type": "code",
      "source": [
        "if __name__ == '__main__':\n",
        "  print(powerOfTwo(16))"
      ],
      "metadata": {
        "colab": {
          "base_uri": "https://localhost:8080/"
        },
        "id": "QrD-iWNFSFSX",
        "outputId": "b105dc50-6285-49fc-9933-9b076431867a"
      },
      "execution_count": null,
      "outputs": [
        {
          "output_type": "stream",
          "name": "stdout",
          "text": [
            "True\n"
          ]
        }
      ]
    },
    {
      "cell_type": "markdown",
      "source": [
        "Projects-\n",
        "1. Automated solutions for certifying multiple customers to increase volumes and velocity of testing \n",
        "2. Improved Test reporting through report classifications to reduce test results analysis\n",
        "3. Work with team to develop accessibility testing solutions through development of engines and UI components that abstract three major accessibility tools together via API to increase productivity and improve accuracy of testing across all teams \n",
        "4. Develop performance tests solutions to test replications and load distributions for merchant groups which impacts over 20 customers across UI. \n",
        "    1. Improve load distributions to multiple servers\n",
        "    2. Scale to more DB operations to ensure applications fails gracefully under heavy loads\n",
        "5. Developed code quality toolings\n",
        "\n",
        "\n",
        "\n",
        "Mocking HTTP requests\n",
        "Why we mock:\n",
        "1. Speed \n",
        "2. Avoid rate limit - how many requests within some minutes range can this API take?\n",
        "3. Error Scenarios\n",
        "4. Deterministic \n",
        "5. Avoid modifying state \n",
        "6. Testing and TDD "
      ],
      "metadata": {
        "id": "2Z-50aZfFW28"
      }
    },
    {
      "cell_type": "code",
      "source": [
        ""
      ],
      "metadata": {
        "id": "-XxLwiYEwFfL"
      },
      "execution_count": null,
      "outputs": []
    }
  ]
}