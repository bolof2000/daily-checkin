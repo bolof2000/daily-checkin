{
  "nbformat": 4,
  "nbformat_minor": 0,
  "metadata": {
    "colab": {
      "name": "hard.ipynb",
      "provenance": [],
      "authorship_tag": "ABX9TyNrNU6sPd5yP5lJTTpgS9lT",
      "include_colab_link": true
    },
    "kernelspec": {
      "name": "python3",
      "display_name": "Python 3"
    },
    "language_info": {
      "name": "python"
    }
  },
  "cells": [
    {
      "cell_type": "markdown",
      "metadata": {
        "id": "view-in-github",
        "colab_type": "text"
      },
      "source": [
        "<a href=\"https://colab.research.google.com/github/bolof2000/daily-checkin/blob/master/hard.ipynb\" target=\"_parent\"><img src=\"https://colab.research.google.com/assets/colab-badge.svg\" alt=\"Open In Colab\"/></a>"
      ]
    },
    {
      "cell_type": "code",
      "execution_count": null,
      "metadata": {
        "id": "mACLgLYHPJO7"
      },
      "outputs": [],
      "source": [
        "def removeDuplicates(s:str,k:int):\n",
        "  stack = []   #[char,count]\n",
        "  for char in s:\n",
        "    if stack and stack[-1][0] == char:\n",
        "      stack[-1][1] +=1\n",
        "    else:\n",
        "      stack.append([c,1])\n",
        "    \n",
        "    if stack[-1][1] == k:\n",
        "      stack.pop()\n",
        "  \n",
        "  res = \"\"\n",
        "\n",
        "  for char, count in stack:\n",
        "    res += (char*count)\n",
        "  \n",
        "  return res \n"
      ]
    },
    {
      "cell_type": "code",
      "source": [
        "def stack_freq(s):\n",
        "\n",
        "  stack = []\n",
        "\n",
        "  for char in s:\n",
        "    if stack and stack[-1][0] == char: \n",
        "      stack[-1][1] += 1 \n",
        "    else:\n",
        "      stack.append([char,1])\n",
        "  \n",
        "  print(stack)\n",
        "\n",
        "  result = []\n",
        "\n",
        "  for char,count in stack:\n",
        "    result.append(char)\n",
        "    if count >1:\n",
        "      result.append(str(count))\n",
        "    \n",
        "  res = \"\"\n",
        "  for char,count in stack: \n",
        "    res +=(char*count)\n",
        "  return result\n"
      ],
      "metadata": {
        "id": "_IcmqjtzvqEh"
      },
      "execution_count": null,
      "outputs": []
    },
    {
      "cell_type": "code",
      "source": [
        "print(stack_freq(\"abbaa\"))"
      ],
      "metadata": {
        "colab": {
          "base_uri": "https://localhost:8080/"
        },
        "id": "6sDQq49ZzT9z",
        "outputId": "19b43fa6-7d36-430d-cded-14a3bf41a7bc"
      },
      "execution_count": null,
      "outputs": [
        {
          "output_type": "stream",
          "name": "stdout",
          "text": [
            "[['a', 1], ['b', 2], ['a', 2]]\n",
            "['a', 'b', '2', 'a', '2']\n"
          ]
        }
      ]
    },
    {
      "cell_type": "code",
      "source": [
        "def compress(s:str):\n",
        "  stack = []\n",
        "\n",
        "  for char in s:\n",
        "    if stack and stack[-1][0] == char:\n",
        "      stack[-1][1] +=1\n",
        "    else:\n",
        "      stack.append([char,1])\n",
        "\n",
        "  res = []\n",
        "\n",
        "  for char,count in stack:\n",
        "    res.append(char)\n",
        "    res.append(str(count))\n",
        "  \n",
        "  return \"\".join(res)"
      ],
      "metadata": {
        "id": "z3piJueU5pxR"
      },
      "execution_count": null,
      "outputs": []
    },
    {
      "cell_type": "code",
      "source": [
        "print(compress(\"aabba\"))"
      ],
      "metadata": {
        "colab": {
          "base_uri": "https://localhost:8080/"
        },
        "id": "o80AZl-q7FFT",
        "outputId": "8b231130-5e68-47dd-d96b-571a6925e7ad"
      },
      "execution_count": null,
      "outputs": [
        {
          "output_type": "stream",
          "name": "stdout",
          "text": [
            "a2b2a1\n"
          ]
        }
      ]
    },
    {
      "cell_type": "code",
      "source": [
        "from typing import List \n",
        "def maxProductArray(nums:List[int]):\n",
        "  result = nums[0]\n",
        "  for i in range(len(nums)):\n",
        "    accum = 1\n",
        "    for j in range(i,len(nums)):\n",
        "      #print(nums[j])\n",
        "      accum *= nums[j]\n",
        "      #print(accum)\n",
        "\n",
        "      result = max(accum,result)\n",
        "      print([i,j,result])\n",
        "  return result \n"
      ],
      "metadata": {
        "id": "r4QUeDQ22dWP"
      },
      "execution_count": null,
      "outputs": []
    },
    {
      "cell_type": "code",
      "source": [
        ""
      ],
      "metadata": {
        "id": "6Jni2sidgKgu"
      },
      "execution_count": null,
      "outputs": []
    },
    {
      "cell_type": "code",
      "source": [
        "print(maxProductArray([2,3,-2,4]))"
      ],
      "metadata": {
        "colab": {
          "base_uri": "https://localhost:8080/"
        },
        "id": "tg7f9VR03rBR",
        "outputId": "6b0cb6ee-7245-456a-a733-9025aa6d04d3"
      },
      "execution_count": null,
      "outputs": [
        {
          "output_type": "stream",
          "name": "stdout",
          "text": [
            "[0, 0, 2]\n",
            "[0, 1, 6]\n",
            "[0, 2, 6]\n",
            "[0, 3, 6]\n",
            "[1, 1, 6]\n",
            "[1, 2, 6]\n",
            "[1, 3, 6]\n",
            "[2, 2, 6]\n",
            "[2, 3, 6]\n",
            "[3, 3, 6]\n",
            "6\n"
          ]
        }
      ]
    },
    {
      "cell_type": "code",
      "source": [
        "from typing import List\n",
        "from collections import defaultdict\n",
        "def subArraySum(nums:List[int],k):\n",
        "\n",
        "  dic = defaultdict(int)\n",
        "  dic.setdefault(0,1)\n",
        "\n",
        "  summ = 0 \n",
        "  count = 0 \n",
        "\n",
        "  for num in nums:\n",
        "    summ +=num \n",
        "    temp = summ-k \n",
        "\n",
        "    if temp in dic:\n",
        "      count +=dic[temp]\n",
        "    dic[summ] +=1\n",
        "\n",
        "  return count\n",
        "\n",
        " \n",
        "  \n",
        "\n"
      ],
      "metadata": {
        "id": "psfJMld1gLn6"
      },
      "execution_count": null,
      "outputs": []
    },
    {
      "cell_type": "code",
      "source": [
        "from typing import List\n",
        "def plusOne(digits:List[int]):\n",
        "  res = \"\"\n",
        "\n",
        "  for item in digits:\n",
        "    res += str(item)\n",
        "\n",
        "  num = int(res)+1\n",
        "  \n",
        "  for k in str(num):\n",
        "    print(k)\n",
        "\n",
        "  result = [int(i) for i in str(num)]\n",
        "\n",
        "  return result "
      ],
      "metadata": {
        "id": "O8DvV4L1setd"
      },
      "execution_count": null,
      "outputs": []
    },
    {
      "cell_type": "code",
      "source": [
        "print(plusOne([9]))"
      ],
      "metadata": {
        "id": "Rv8EHm70rYu8",
        "outputId": "9ca04e86-8963-4593-efbf-563584a74962",
        "colab": {
          "base_uri": "https://localhost:8080/"
        }
      },
      "execution_count": null,
      "outputs": [
        {
          "output_type": "stream",
          "name": "stdout",
          "text": [
            "1\n",
            "0\n",
            "[1, 0]\n"
          ]
        }
      ]
    },
    {
      "cell_type": "code",
      "source": [
        "print(subArraySum([1,1,1],2))"
      ],
      "metadata": {
        "id": "yCwCnNl4kZiF",
        "outputId": "042a7c40-1204-46b6-bd15-d36e2eb9eb62",
        "colab": {
          "base_uri": "https://localhost:8080/"
        }
      },
      "execution_count": null,
      "outputs": [
        {
          "output_type": "stream",
          "name": "stdout",
          "text": [
            "2\n"
          ]
        }
      ]
    },
    {
      "cell_type": "code",
      "source": [
        "def numberOfIslands(grid):\n",
        "\n",
        "  def dfs(grid,row,col):\n",
        "    if row < 0 or row >= len(grid) or col <0 or col >= len(grid[0]) or grid[row][col] == '0':\n",
        "      return\n",
        "\n",
        "    grid[row][col] = '0'\n",
        "    dfs(grid,row+1,col)\n",
        "    dfs(grid,row-1,col)\n",
        "    dfs(grid,row,col+1)\n",
        "    dfs(grid,row,col-1)\n",
        "\n",
        "  count = 0 \n",
        "\n",
        "  for row in range(len(grid)):\n",
        "    for col in range(len(grid[0])):\n",
        "      if grid[row][col] == '1':\n",
        "        count +=1\n",
        "        dfs(grid,row,col)\n",
        "  \n",
        "  return count "
      ],
      "metadata": {
        "id": "_WHa7B9RRjzn"
      },
      "execution_count": null,
      "outputs": []
    },
    {
      "cell_type": "code",
      "source": [
        "class Node:\n",
        "\n",
        "  def __init__(self,val,next):\n",
        "    self.val = val \n",
        "    self.next = next"
      ],
      "metadata": {
        "id": "yjDCpizqWihI"
      },
      "execution_count": null,
      "outputs": []
    },
    {
      "cell_type": "code",
      "source": [
        "def reverse_linked_list(head:Node):\n",
        "  pass \n"
      ],
      "metadata": {
        "id": "dP6EyhYzWqPc"
      },
      "execution_count": null,
      "outputs": []
    },
    {
      "cell_type": "code",
      "source": [
        "def reverse_int(num):\n",
        "\n",
        "  result = \"\"\n",
        "\n",
        "  if abs(num):\n",
        "    num_str = str(abs(num))\n",
        "    for i in range(len(num_str)-1,-1,-1):\n",
        "      if  num_str[i] !='0':\n",
        "        result += num_str[i]\n",
        "  \n",
        "  if num < 0:\n",
        "    print(result* (-1))\n",
        "    return  result * (-1)\n",
        "  else:\n",
        "    return result \n"
      ],
      "metadata": {
        "id": "pjv6jSs5e4Qx"
      },
      "execution_count": null,
      "outputs": []
    },
    {
      "cell_type": "code",
      "source": [
        "print(reverse_int(-123))"
      ],
      "metadata": {
        "colab": {
          "base_uri": "https://localhost:8080/"
        },
        "id": "Lyc6qmWdgZb6",
        "outputId": "a558ebb9-234e-4ddf-9ed4-cab29920df20"
      },
      "execution_count": null,
      "outputs": [
        {
          "output_type": "stream",
          "name": "stdout",
          "text": [
            "\n",
            "\n"
          ]
        }
      ]
    },
    {
      "cell_type": "code",
      "source": [
        ""
      ],
      "metadata": {
        "id": "N2H-rZQX_k5A"
      },
      "execution_count": null,
      "outputs": []
    },
    {
      "cell_type": "code",
      "source": [
        "def backspace(s1,s2):\n",
        "  stack1 = []\n",
        "  stack2 = []\n",
        "\n",
        "  for char in s1:\n",
        "    if stack1 and char == '#':\n",
        "      stack1.pop()\n",
        "    else:\n",
        "      stack1.append(char)\n",
        "  \n",
        "  for char in s2:\n",
        "    if stack2 and char == '#':\n",
        "      stack2.pop()\n",
        "    else:\n",
        "      stack2.append(char)\n",
        "  return stack1 == stack2"
      ],
      "metadata": {
        "id": "zU9zTiQPoEWq"
      },
      "execution_count": null,
      "outputs": []
    },
    {
      "cell_type": "code",
      "source": [
        "backspace(\"ab#c\",\"ad#c\")"
      ],
      "metadata": {
        "colab": {
          "base_uri": "https://localhost:8080/"
        },
        "id": "irYhy9MHpHGj",
        "outputId": "dafa0c79-a039-447d-c401-d1fa0c0b69b4"
      },
      "execution_count": null,
      "outputs": [
        {
          "output_type": "execute_result",
          "data": {
            "text/plain": [
              "True"
            ]
          },
          "metadata": {},
          "execution_count": 93
        }
      ]
    },
    {
      "cell_type": "code",
      "source": [
        "def findCommonChars(arr:List[str]):\n",
        "  pass \n"
      ],
      "metadata": {
        "id": "y2BsPVWxqqG0"
      },
      "execution_count": null,
      "outputs": []
    },
    {
      "cell_type": "code",
      "source": [
        "def first_unique_char(s:str):\n",
        "  dic = {}\n",
        "\n",
        "  for char in s:\n",
        "    if char in dic:\n",
        "      dic[char] +=1\n",
        "    else:\n",
        "      dic[char] =1 \n",
        "  \n",
        "  for char in s:\n",
        "    if dic[char] ==1:\n",
        "      return char \n",
        "  return -1\n",
        "  \n",
        "  "
      ],
      "metadata": {
        "id": "LE33fCvrAdqw"
      },
      "execution_count": null,
      "outputs": []
    },
    {
      "cell_type": "code",
      "source": [
        ""
      ],
      "metadata": {
        "id": "3xjm4RcFKQiM"
      },
      "execution_count": null,
      "outputs": []
    },
    {
      "cell_type": "code",
      "source": [
        "print(first_unique_char(\"lldeetcodea\"))"
      ],
      "metadata": {
        "colab": {
          "base_uri": "https://localhost:8080/"
        },
        "id": "G2G0X3mtDlsg",
        "outputId": "9bcfebf7-24ee-45a9-f8c8-7314fa4e9c23"
      },
      "execution_count": null,
      "outputs": [
        {
          "output_type": "stream",
          "name": "stdout",
          "text": [
            "t\n"
          ]
        }
      ]
    },
    {
      "cell_type": "code",
      "source": [
        "def defanging_ip_address(s:str):\n",
        "  result =\"\"\n",
        "  for item in s:\n",
        "    if item != '.':\n",
        "      result += item\n",
        "    else:\n",
        "      result += '[.]'\n",
        "  return result\n"
      ],
      "metadata": {
        "id": "1xT-6FTaKRcS"
      },
      "execution_count": null,
      "outputs": []
    },
    {
      "cell_type": "code",
      "source": [
        "print(defanging_ip_address(\"1.1.1.1\"))"
      ],
      "metadata": {
        "colab": {
          "base_uri": "https://localhost:8080/"
        },
        "id": "iIulSgmbK_L2",
        "outputId": "40e0d2cc-315a-4267-9ccb-cabc4ac74e1a"
      },
      "execution_count": null,
      "outputs": [
        {
          "output_type": "stream",
          "name": "stdout",
          "text": [
            "1[.]1[.]1[.]1\n"
          ]
        }
      ]
    },
    {
      "cell_type": "code",
      "source": [
        "def add_string(num1,num2):\n",
        "  result =[]\n",
        "\n",
        "  i = len(num1)-1\n",
        "  j = len(num2)-1\n",
        "  carry =0 \n",
        "\n",
        "  while i >=0 or j >=0: \n",
        "    summ = carry \n",
        "    if i >=0:\n",
        "      summ += ord(num1[i]-ord('0'))\n",
        "      i -=1\n",
        "    if j>=0:\n",
        "      summ += ord(num2[j]-ord('0'))\n",
        "      j -=1\n",
        "\n",
        "    result.append(summ%10)\n",
        "    carry = summ/10 \n",
        "\n",
        "    i -=1\n",
        "    j -=1\n",
        "\n",
        "  if carry !=0:\n",
        "    result.append(carry)\n",
        "\n",
        "  return \"\".join(str(x) for x in result[::1])\n",
        "  \n",
        "\n",
        "    "
      ],
      "metadata": {
        "id": "5SjP-ak3PPzp"
      },
      "execution_count": null,
      "outputs": []
    },
    {
      "cell_type": "code",
      "source": [
        "def longest_palindrome(s:str):\n",
        "  count =0 \n",
        "  myset = set()\n",
        "\n",
        "  for char in s:\n",
        "    if char in myset:\n",
        "      count +=1\n",
        "      myset.remove(char)\n",
        "    else:\n",
        "      myset.add(char)\n",
        "  \n",
        "  count =count*2 \n",
        "\n",
        "  print(myset)\n",
        "  if len(myset) >0:\n",
        "    count +=1\n",
        "  return count \n"
      ],
      "metadata": {
        "id": "ZPunHsEqX6Yt"
      },
      "execution_count": null,
      "outputs": []
    },
    {
      "cell_type": "code",
      "source": [
        "print(longest_palindrome(\"abccccdd\"))"
      ],
      "metadata": {
        "id": "xQo1Yez6fckt",
        "outputId": "6974d7c2-8b0c-4974-a032-0f14638cf6be",
        "colab": {
          "base_uri": "https://localhost:8080/"
        }
      },
      "execution_count": null,
      "outputs": [
        {
          "output_type": "stream",
          "name": "stdout",
          "text": [
            "{'a', 'b'}\n",
            "7\n"
          ]
        }
      ]
    },
    {
      "cell_type": "code",
      "source": [
        "class Solution:\n",
        "    def removeDuplicates(self, s: str) -> str:\n",
        "      stack = []\n",
        "\n",
        "      for char in s:\n",
        "        if stack and stack[-1] == char:\n",
        "          stack.pop()\n",
        "        else:\n",
        "          stack.append(char)\n",
        "      return \"\".join(stack)\n",
        "    "
      ],
      "metadata": {
        "id": "48t_co5RBeQ6"
      },
      "execution_count": null,
      "outputs": []
    },
    {
      "cell_type": "code",
      "source": [
        "test= Solution()\n",
        "print(test.removeDuplicates(\"azxxzy\"))"
      ],
      "metadata": {
        "id": "BxnwKMOMCgLo",
        "outputId": "837363b9-104a-48c7-fe86-8d61d494fe60",
        "colab": {
          "base_uri": "https://localhost:8080/"
        }
      },
      "execution_count": null,
      "outputs": [
        {
          "output_type": "stream",
          "name": "stdout",
          "text": [
            "ay\n"
          ]
        }
      ]
    },
    {
      "cell_type": "code",
      "source": [
        "def removeDuplicates2(s:str,k:int)->str:\n",
        "  stack = [] #char and count \n",
        "  for char in s:\n",
        "    if stack and stack[-1][0] == char:\n",
        "      stack[-1][1] +=1\n",
        "    else:\n",
        "      stack.append([char,1])\n",
        "\n",
        "    if stack[-1][1] ==k:\n",
        "      stack.pop()\n",
        "      print(stack)\n",
        "    \n",
        "  res = \"\"\n",
        "  for char,count in stack:\n",
        "    res += (char*count)\n",
        "  \n",
        "  return res \n",
        "    "
      ],
      "metadata": {
        "id": "uNV6LhCSCuSi"
      },
      "execution_count": null,
      "outputs": []
    },
    {
      "cell_type": "code",
      "source": [
        ""
      ],
      "metadata": {
        "id": "Hckftj9EEm1B"
      },
      "execution_count": null,
      "outputs": []
    },
    {
      "cell_type": "code",
      "source": [
        "print(removeDuplicates2(\"deeedbbcccbdaa\",3))"
      ],
      "metadata": {
        "id": "kDsr5sTYEIUN",
        "outputId": "5cc38521-df9d-4047-82fd-4240962e157b",
        "colab": {
          "base_uri": "https://localhost:8080/"
        }
      },
      "execution_count": null,
      "outputs": [
        {
          "output_type": "stream",
          "name": "stdout",
          "text": [
            "[['d', 1]]\n",
            "[['d', 2], ['b', 2]]\n",
            "[['d', 2]]\n",
            "[]\n",
            "aa\n"
          ]
        }
      ]
    },
    {
      "cell_type": "code",
      "source": [
        "def compress2(s:str)->str:\n",
        "  stack = [] #char and count \n",
        "  for char in s:\n",
        "    if stack and stack[-1][0]== char:\n",
        "      stack[-1][1] +=1\n",
        "    else:\n",
        "      stack.append([char,1])\n",
        "  \n",
        "  res = \"\"\n",
        "  for char,count in stack:\n",
        "    res +=char \n",
        "    res += str(count)\n",
        "  return res \n",
        "    "
      ],
      "metadata": {
        "id": "CvXlL4KaEnn8"
      },
      "execution_count": null,
      "outputs": []
    },
    {
      "cell_type": "code",
      "source": [
        "print(compress2(\"abcd\"))"
      ],
      "metadata": {
        "id": "3v51vGATEuS4",
        "outputId": "e4997b13-494d-4c75-88ee-e5f5d0d910a9",
        "colab": {
          "base_uri": "https://localhost:8080/"
        }
      },
      "execution_count": null,
      "outputs": [
        {
          "output_type": "stream",
          "name": "stdout",
          "text": [
            "a1b1c1d1\n"
          ]
        }
      ]
    },
    {
      "cell_type": "code",
      "source": [
        "from typing import List\n",
        "from heapq import heappop,heappush\n",
        "def kthLargestNumber(nums:List[str],k:int):\n",
        "\n",
        "  priority = []\n",
        "\n",
        "  for num in nums:\n",
        "    heappush()\n",
        "\n"
      ],
      "metadata": {
        "id": "jicHUVmqN7CO"
      },
      "execution_count": null,
      "outputs": []
    },
    {
      "cell_type": "code",
      "source": [
        "#intervals - key thing is to check for overlaps\n",
        "\"\"\"\n",
        "\"\"\"\n",
        "from typing import List\n",
        "def overlap(x:List[int],y:List[int]):\n",
        "  return not(x[1]<y[0] or y[1]<x[0])\n"
      ],
      "metadata": {
        "id": "M0QSizHO_mLq"
      },
      "execution_count": 1,
      "outputs": []
    },
    {
      "cell_type": "code",
      "source": [
        "def meeting_room(intervals):\n",
        "  intervals.sort()\n",
        "  for i in range(len(intervals)-1):\n",
        "    if overlap(intervals[i],intervals[i+1]):\n",
        "      return False \n",
        "  return True "
      ],
      "metadata": {
        "id": "pk3hv-Fyt8yu"
      },
      "execution_count": 10,
      "outputs": []
    },
    {
      "cell_type": "code",
      "source": [
        "def merge(intervals):\n",
        "  result = []\n",
        "  intervals.sort()\n",
        "  for sublist in intervals:\n",
        "    if not result or not overlap(result[-1],sublist):\n",
        "      result.append(sublist)\n",
        "    else:\n",
        "      result[-1][1] = max(result[-1][1],sublist[1])\n",
        "  return result"
      ],
      "metadata": {
        "id": "Wlb9_ZRcuxn3"
      },
      "execution_count": 17,
      "outputs": []
    },
    {
      "cell_type": "code",
      "source": [
        "def removeDuplicateFromSortedList(nums:List[int]):\n",
        "  result = []\n",
        "  window = 0 \n",
        "  for i in range(len(nums)):\n",
        "    if nums[window] != nums[i] or i == len(nums)-1:\n",
        "      result.append(nums[window])\n",
        "\n",
        "      window = i\n",
        "    else:\n",
        "      continue \n",
        "  return result  \n"
      ],
      "metadata": {
        "id": "rJZ0ZFJv1ELl"
      },
      "execution_count": 20,
      "outputs": []
    },
    {
      "cell_type": "code",
      "source": [
        "class Node():\n",
        "  def __init__(self,val,next=None):\n",
        "    self.val = val\n",
        "    self.next = next"
      ],
      "metadata": {
        "id": "_QF0FLzm2iD8"
      },
      "execution_count": 24,
      "outputs": []
    },
    {
      "cell_type": "code",
      "source": [
        ""
      ],
      "metadata": {
        "id": "Yz42L75l8RvC"
      },
      "execution_count": null,
      "outputs": []
    },
    {
      "cell_type": "code",
      "source": [
        "if __name__ == '__main__':\n",
        "  intervals = [[1,3],[2,6],[8,10],[15,18]]\n",
        "  interval2 = [[0,30],[5,10],[15,20]]\n",
        "  print(merge(intervals))\n",
        "  print(meeting_room(interval2))\n",
        "  input = [0,0,1,1,1,2,2]\n",
        "  print(removeDuplicateFromSortedList(input))"
      ],
      "metadata": {
        "colab": {
          "base_uri": "https://localhost:8080/"
        },
        "id": "QMj5HT9wr9yu",
        "outputId": "acf1eb4b-7a16-4b0b-c209-f01b51dd4696"
      },
      "execution_count": 22,
      "outputs": [
        {
          "output_type": "stream",
          "name": "stdout",
          "text": [
            "[[1, 6], [8, 10], [15, 18]]\n",
            "False\n",
            "[0, 1, 2]\n"
          ]
        }
      ]
    },
    {
      "cell_type": "code",
      "source": [
        ""
      ],
      "metadata": {
        "id": "tvxcAnHSsjgV"
      },
      "execution_count": null,
      "outputs": []
    }
  ]
}