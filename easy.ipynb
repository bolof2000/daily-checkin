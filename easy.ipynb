{
  "nbformat": 4,
  "nbformat_minor": 0,
  "metadata": {
    "colab": {
      "name": "easy.ipynb",
      "provenance": [],
      "authorship_tag": "ABX9TyO+7Ih/uGekPCHU/6GkXrK8",
      "include_colab_link": true
    },
    "kernelspec": {
      "name": "python3",
      "display_name": "Python 3"
    },
    "language_info": {
      "name": "python"
    }
  },
  "cells": [
    {
      "cell_type": "markdown",
      "metadata": {
        "id": "view-in-github",
        "colab_type": "text"
      },
      "source": [
        "<a href=\"https://colab.research.google.com/github/bolof2000/daily-checkin/blob/master/easy.ipynb\" target=\"_parent\"><img src=\"https://colab.research.google.com/assets/colab-badge.svg\" alt=\"Open In Colab\"/></a>"
      ]
    },
    {
      "cell_type": "code",
      "execution_count": null,
      "metadata": {
        "id": "rGaFyGKkoamW"
      },
      "outputs": [],
      "source": [
        "def threesum(nums,target):\n",
        "  nums.sort()\n",
        "  results = []\n",
        "  for i in range(len(nums)-2):\n",
        "    if i== 0 or (i >0 and nums[i] != nums[i-1]):\n",
        "      left = i+1\n",
        "      right = len(nums)-1\n",
        "      while left < right:\n",
        "        temp = nums[left]+nums[right]+nums[i]\n",
        "        if temp == target:\n",
        "          results.append([nums[i],nums[left],nums[right]])\n",
        "\n",
        "          while left < right and nums[left] == nums[left+1]:\n",
        "            left +=1\n",
        "          while left < right and nums[right] == nums[right-1]:\n",
        "            right -=1\n",
        "\n",
        "          left +=1\n",
        "          right -=1\n",
        "        elif temp > temp:\n",
        "          right -=1\n",
        "        else:\n",
        "          left +=1\n",
        "  return results \n",
        "      "
      ]
    },
    {
      "cell_type": "code",
      "source": [
        "def product_array(nums):\n",
        "  results = [1]*len(nums)\n",
        "\n",
        "  mul = 1\n",
        "\n",
        "  for i in range(len(nums)):\n",
        "    results[i] = results[i]*mul \n",
        "    mul = nums[i]*mul \n",
        "  mul = 1\n",
        "\n",
        "  for i in range(len(nums)-1,-1,-1):\n",
        "     results[i] = results[i]*mul \n",
        "     mul = nums[i]*mul\n",
        "\n",
        "  return results \n"
      ],
      "metadata": {
        "id": "op6D5Pa8qscr"
      },
      "execution_count": null,
      "outputs": []
    },
    {
      "cell_type": "code",
      "source": [
        "from collections import defaultdict\n",
        "def sub_array_sum(nums,target):\n",
        "  dic = defaultdict(int)\n",
        "  dic.setdefault(0,1)\n",
        "  s = 0\n",
        "  count = 0 \n",
        "  for num in nums:\n",
        "    s += num \n",
        "    temp = s-target\n",
        "    if temp in dic:\n",
        "      count += dic[temp]\n",
        "    dic[s] +=1\n",
        "  return count "
      ],
      "metadata": {
        "id": "XaehXr6QsNH4"
      },
      "execution_count": null,
      "outputs": []
    },
    {
      "cell_type": "code",
      "source": [
        "def house_robber(nums):\n",
        "  if len(nums) ==1:\n",
        "    return nums[0]\n",
        "  if len(nums) ==2:\n",
        "    return max(nums[0],nums[1])\n",
        "  \n",
        "  dp = [nums[0],max(nums[0],nums[1])]\n",
        "\n",
        "  for i in range(2,len(nums)):\n",
        "    dp.append(max(dp[i-2]+nums[i],dp[i-1]))\n",
        "  return dp[-1]"
      ],
      "metadata": {
        "id": "q7dBB6yxs8JI"
      },
      "execution_count": null,
      "outputs": []
    },
    {
      "cell_type": "code",
      "source": [
        "def pivotIndex(nums):\n",
        "  s = sum(nums)\n",
        "  accum = 0 \n",
        "  for i in range(len(nums)):\n",
        "    if s-accum-nums[i] == accum:\n",
        "      return i\n",
        "    accum +=nums[i]\n",
        "  return -1 \n",
        "    "
      ],
      "metadata": {
        "id": "370O_yAdtHg3"
      },
      "execution_count": null,
      "outputs": []
    },
    {
      "cell_type": "code",
      "source": [
        "class Queue:\n",
        "\n",
        "  def __init__(self):\n",
        "    self.push = []\n",
        "    self.queue = []\n",
        "  \n",
        "  def push(self,x):\n",
        "    self.push.append(x)\n",
        "  def peek(self):\n",
        "    if not self.queue:\n",
        "      while self.push:\n",
        "        self.queue.append(self.push.pop())\n",
        "    return self.queue[-1]\n",
        "  \n"
      ],
      "metadata": {
        "id": "y9fsSeWWvFRP"
      },
      "execution_count": null,
      "outputs": []
    },
    {
      "cell_type": "code",
      "source": [
        "def unique_path(m,n):\n",
        "\n",
        "  dp =  [1 for col in range(n)]  for row in range(m) ]\n",
        "\n",
        "  for col in range(1,n):\n",
        "    for row in range(1,m):\n",
        "      dp[row][col] = dp[row-1][col] + dp[row][col-1]\n",
        "  \n",
        "  return dp[-1][-1]\n"
      ],
      "metadata": {
        "id": "3faBkiIFcqTJ"
      },
      "execution_count": null,
      "outputs": []
    },
    {
      "cell_type": "code",
      "source": [
        ""
      ],
      "metadata": {
        "id": "uECl-SpzjXQ2"
      },
      "execution_count": null,
      "outputs": []
    },
    {
      "cell_type": "code",
      "source": [
        "def frequencySort(s):\n",
        "  dic = collections.Counter(s)\n",
        "  s = list(s)\n",
        "  s.sort(key=lambda x: (-d[x],x))\n",
        "  return \"\".join(s)"
      ],
      "metadata": {
        "id": "UDIvyqpMjXaQ"
      },
      "execution_count": null,
      "outputs": []
    },
    {
      "cell_type": "code",
      "source": [
        "def word_search(grid,word):\n",
        "  def dfs(grid,row,col,index):\n",
        "    if row >=0 and row< len(grid) and col >= 0 and col <= len(grid[0]) and grid[row][col] == word[index]:\n",
        "       temp = grid[row][col]\n",
        "       grid[row][col] = None\n",
        "       if dfs(grid,row+1,col,index+1) or ..... :\n",
        "         return True \n",
        "      grid[row][col] = temp\n",
        "\n",
        "    return False "
      ],
      "metadata": {
        "id": "t7MWegP6kkoj"
      },
      "execution_count": null,
      "outputs": []
    },
    {
      "cell_type": "code",
      "source": [
        "def merge(intervals):\n",
        "  intervals.sort()\n",
        "\n",
        "  def overlap(a,b):\n",
        "    return not (b[1] <a[0] or a[1] < b[0])\n",
        "\n",
        "  res = []\n",
        "\n",
        "  for sub in intervals:\n",
        "    if not res or not overlap(res[-1],sub):\n",
        "      res.append(sub)\n",
        "    else:\n",
        "      res[-1][1] = max(res[-1][1],sub[1])\n",
        "  \n",
        "  return res \n",
        "  "
      ],
      "metadata": {
        "id": "ACHOVBjpceC0"
      },
      "execution_count": null,
      "outputs": []
    },
    {
      "cell_type": "code",
      "source": [
        "def coin_exchange(coins,amount):\n",
        "  dp = [inf]* amount+1\n",
        "  if amount =0 : return 0 \n",
        "  dp[0] =0 \n",
        "\n",
        "  for i in range(1,amount+1):\n",
        "    for coin in coins:\n",
        "      if i-coin >=0:\n",
        "        dp[i] = min(1+dp[i-coin],dp[i])\n",
        "  \n",
        "  return dp[-1] if dp[-1] < inf else -1"
      ],
      "metadata": {
        "id": "0Yl3-7cJde-I"
      },
      "execution_count": null,
      "outputs": []
    },
    {
      "cell_type": "code",
      "source": [
        ""
      ],
      "metadata": {
        "id": "PrYrBBDSfYAI"
      },
      "execution_count": null,
      "outputs": []
    }
  ]
}