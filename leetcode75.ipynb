{
  "nbformat": 4,
  "nbformat_minor": 0,
  "metadata": {
    "colab": {
      "name": "leetcode75.ipynb",
      "provenance": [],
      "authorship_tag": "ABX9TyMPVwLwUhB916sC5qyJAo/f",
      "include_colab_link": true
    },
    "kernelspec": {
      "name": "python3",
      "display_name": "Python 3"
    },
    "language_info": {
      "name": "python"
    }
  },
  "cells": [
    {
      "cell_type": "markdown",
      "metadata": {
        "id": "view-in-github",
        "colab_type": "text"
      },
      "source": [
        "<a href=\"https://colab.research.google.com/github/bolof2000/daily-checkin/blob/master/leetcode75.ipynb\" target=\"_parent\"><img src=\"https://colab.research.google.com/assets/colab-badge.svg\" alt=\"Open In Colab\"/></a>"
      ]
    },
    {
      "cell_type": "code",
      "execution_count": null,
      "metadata": {
        "id": "MGttUDNzqbNU"
      },
      "outputs": [],
      "source": [
        "def longestSubstringWithoutRepeatingChar(s:str):\n",
        "  window = 0 \n",
        "  maxlen = 0 \n",
        "\n",
        "  dic = {}\n",
        "\n",
        "  for i in range(len(s)):\n",
        "    char = s[i]\n",
        "    if char in dic and dic[char] >= window:\n",
        "      window = dic[char]+1\n",
        "    dic[char] = i \n",
        "\n",
        "    maxlen = max(maxlen,i-window+1)\n",
        "\n",
        "  return maxlen"
      ]
    },
    {
      "cell_type": "code",
      "source": [
        "from typing import List\n",
        "def twoSum(nums:List,target):\n",
        "\n",
        "  result = []\n",
        "\n",
        "  nums.sort()\n",
        "\n",
        "  left = 0 \n",
        "  right = len(nums)-1\n",
        "\n",
        "  while left < right:\n",
        "    temp = nums[left]+nums[right]\n",
        "    if temp == target:\n",
        "      result.append(left)\n",
        "      result.append(right)\n",
        "      left +=1\n",
        "      right -=1\n",
        "    elif temp > target:\n",
        "      right -=1\n",
        "    else:\n",
        "      left +=1\n",
        "  return result"
      ],
      "metadata": {
        "id": "OBz1p0-FrTCU"
      },
      "execution_count": null,
      "outputs": []
    },
    {
      "cell_type": "code",
      "source": [
        "from collections import Counter\n",
        "def twoSumUsingDic(nums,target):\n",
        "  result = []\n",
        "  dic = {}\n",
        "  for item in nums:\n",
        "    if item in dic:\n",
        "      dic[item] +=1\n",
        "    else:\n",
        "      dic[item] = 1\n",
        "\n",
        "  for i in range(len(nums)):\n",
        "    num = nums[i]\n",
        "    temp = target-nums[i]\n",
        "\n",
        "    if temp in dic:\n",
        "      result.append(i)\n",
        "      #result.append(dic.get(temp))\n",
        "      #return [i,dic[temp]]\n",
        "    dic[nums[i]] =i\n",
        "  return result\n"
      ],
      "metadata": {
        "id": "a8-sYXCisJX7"
      },
      "execution_count": null,
      "outputs": []
    },
    {
      "cell_type": "code",
      "source": [
        "def longestPalindromeSubstring(s:str):\n",
        "\n",
        "  def helper(s,left,right):\n",
        "    while left >=0 and right< len(s) and s[left] == s[right]:\n",
        "      left -=1\n",
        "      right +=1\n",
        "    return s[left+1:right]\n",
        "\n",
        "  result = \"\"\n",
        "  for i in range(len(s)):\n",
        "    s1 = helper(s,i+1,i-1)\n",
        "    s2 = helper(s,i,i-1)\n",
        "\n",
        "    result = max(result,s1,s2,key=len)\n",
        "  return result \n"
      ],
      "metadata": {
        "id": "cPoNTo6EwSxk"
      },
      "execution_count": null,
      "outputs": []
    },
    {
      "cell_type": "code",
      "source": [
        "def threeSum(nums:List):\n",
        "  nums.sort()\n",
        "  result = []\n",
        "  for i in range(len(nums)):\n",
        "    if i ==0 or (i >0 and nums[i] != nums[i-1]):\n",
        "      left = i+1\n",
        "      right = len(nums)-1\n",
        "\n",
        "      while left < right:\n",
        "        temp = nums[i]+nums[left]+nums[right]\n",
        "        if temp == 0:\n",
        "          result.append([nums[left],nums[right],nums[i]])\n",
        "\n",
        "          while left <right and nums[left] == nums[left+1]:\n",
        "            left +=1\n",
        "          while left < right and nums[right] == nums[right-1]:\n",
        "            right -=1\n",
        "          left +=1\n",
        "          right -=1\n",
        "        elif temp > 0:\n",
        "         right -=1\n",
        "        else:\n",
        "          left +=1\n",
        "\n",
        "  return result \n",
        "\n",
        "\n"
      ],
      "metadata": {
        "id": "b9aFQJXWzB6r"
      },
      "execution_count": 41,
      "outputs": []
    },
    {
      "cell_type": "code",
      "source": [
        "def isValidParenthesis(s:str):\n",
        "  dic = {\"(\":\")\",\"{\":\"}\",\"[\":\"]\"}\n",
        "  stack = []\n",
        "\n",
        "  for char in s:\n",
        "   if char in dic:\n",
        "     stack.append(char)\n",
        "   elif len(stack) ==0 or dic[stack.pop()] != char:\n",
        "      return False \n",
        "  return len(stack) == 0 \n",
        "\n"
      ],
      "metadata": {
        "id": "xc3SLvNo5FUw"
      },
      "execution_count": 51,
      "outputs": []
    },
    {
      "cell_type": "code",
      "source": [
        "def searchInRotatedSortedArray(nums,target):\n",
        "\n",
        "  left = 0 \n",
        "  right = len(nums)-1\n",
        "  \n",
        "  while left <= right:\n",
        "    mid = (left+right)//2\n",
        "\n",
        "    if nums[mid] == target:\n",
        "      return mid \n",
        "    else:\n",
        "\n",
        "      if nums[mid] > nums[left]:\n",
        "        if target >=nums[left] and target <= nums[mid]:\n",
        "          right = mid-1\n",
        "        else:\n",
        "          left = mid+1\n",
        "      else:\n",
        "        if target >= nums[mid] and target <= nums[right]:\n",
        "          left = mid+1\n",
        "        else:\n",
        "          right = mid-1\n",
        "  return -1\n"
      ],
      "metadata": {
        "id": "-iV463nh8IS9"
      },
      "execution_count": 53,
      "outputs": []
    },
    {
      "cell_type": "code",
      "source": [
        "def combinationSum(nums,target):\n",
        "  def dfs(nums,path,remaining,startIndex,res):\n",
        "    if remaining== 0:\n",
        "      res.append(path[:])\n",
        "      return \n",
        "    for i in range(startIndex,len(nums)):\n",
        "      num = nums[i]\n",
        "      if remaining-num < 0:\n",
        "        continue\n",
        "      dfs(nums,path+[num],remaining-num,i,res)\n",
        "  \n",
        "  res = []\n",
        "  dfs(nums,[],target,0,res)\n",
        "\n",
        "  return res \n",
        "    "
      ],
      "metadata": {
        "id": "2uhFcNZG88wH"
      },
      "execution_count": 54,
      "outputs": []
    },
    {
      "cell_type": "code",
      "source": [
        "def rotateImage(matrix:List[List]):\n",
        "  N = len(matrix)\n",
        "  matrix.reverse()\n",
        "\n",
        "  for row in range(N):\n",
        "    for col in range(row):\n",
        "      matrix[row][col],matrix[col][row] = matrix[col][row],matrix[row][col]\n",
        "\n",
        "      "
      ],
      "metadata": {
        "id": "dMzvM-LT_igw"
      },
      "execution_count": 55,
      "outputs": []
    },
    {
      "cell_type": "code",
      "source": [
        "def groupAnagrams(strs:List[str]):\n",
        "\n",
        "  dic = {}\n",
        "\n",
        "  for word in strs:\n",
        "    key = \"\".join(sorted(word))\n",
        "\n",
        "    if key in dic:\n",
        "      dic[key].append(word)\n",
        "    else:\n",
        "      dic[key] = [word]\n",
        "  return list(dic.keys())"
      ],
      "metadata": {
        "id": "eZ7v5z5qBO98"
      },
      "execution_count": 56,
      "outputs": []
    },
    {
      "cell_type": "code",
      "source": [
        "def maximumSubArraySum(nums):\n",
        "  maxNum = nums[0]\n",
        "  currentSum = nums[0]\n",
        "  for i in range(1,len(nums)):\n",
        "    num = nums[i]\n",
        "    currentSum  = max(currentSum+num,num)\n",
        "    maxNum = max(currentSum,maxNum)\n",
        "  return maxNum "
      ],
      "metadata": {
        "id": "QJU9tYKwBmcO"
      },
      "execution_count": 57,
      "outputs": []
    },
    {
      "cell_type": "code",
      "source": [
        "def jumpGame(nums):\n",
        "  goal = len(nums)-1\n",
        "\n",
        "  for i in range(len(nums)-1,-1,-1):\n",
        "    if i+nums[i] >= goal:\n",
        "      goal = i \n",
        "\n",
        "  return goal ==0 "
      ],
      "metadata": {
        "id": "_R2yrPw9G-4V"
      },
      "execution_count": 58,
      "outputs": []
    },
    {
      "cell_type": "code",
      "source": [
        "def merge(intervals:List[List[int]]):\n",
        "\n",
        "  def isOverlap(x,y):\n",
        "    return not (x[1]< y[0] or y[1] <x[0])\n",
        "  result = []\n",
        "\n",
        "  intervals.sort()\n",
        "\n",
        "  for sublist in intervals:\n",
        "    if not result or not isOverlap(result[-1],sublist):\n",
        "      result.append(sublist)\n",
        "    else:\n",
        "      result[-1][1] = max(result[-1][1],sublist[1])\n",
        "  return result"
      ],
      "metadata": {
        "id": "-cH7blKkHPGn"
      },
      "execution_count": 60,
      "outputs": []
    },
    {
      "cell_type": "code",
      "source": [
        "def insertInterval(intervals,new_interval):\n",
        "\n",
        "  result = []\n",
        "  def isOverlap(x,y):\n",
        "    return not (x[1]< y[0] or y[1] <x[0])\n",
        "  \n",
        "  intervals.append(new_interval)\n",
        "\n",
        "  intervals.sort()\n",
        "\n",
        "  for sublist in intervals:\n",
        "    if not result or not isOverlap(result[-1],sublist):\n",
        "      result.append(sublist)\n",
        "    else:\n",
        "      result[-1][1] = max(result[-1][1],sublist[1])\n",
        "  return result"
      ],
      "metadata": {
        "id": "CCgL0sEoH441"
      },
      "execution_count": 61,
      "outputs": []
    },
    {
      "cell_type": "code",
      "source": [
        "def uniquePath(m,n):\n",
        "  dp = [[1 for col in range(m)] for row in range(n)]\n",
        "\n",
        "  for row in range(1,n):\n",
        "    for col in range(1,m):\n",
        "      dp[row][col] = dp[row][col-1] + dp[row-1][col]\n",
        "  return dp[-1][-1]"
      ],
      "metadata": {
        "id": "cTha_0CdIOgv"
      },
      "execution_count": 63,
      "outputs": []
    },
    {
      "cell_type": "code",
      "source": [
        "def findMinInRotatedSortedArray(nums):\n",
        "  left =0\n",
        "  right = len(nums)-1\n",
        "\n",
        "  while left < right:\n",
        "    mid = (left+right)//2\n",
        "    if nums[mid] > nums[right]:\n",
        "      left = mid+1\n",
        "    elif nums[mid] < nums[left]:\n",
        "      right = mid \n",
        "    else:\n",
        "      return -1\n",
        "  return nums[left]"
      ],
      "metadata": {
        "id": "F1-91O19KDpU"
      },
      "execution_count": 64,
      "outputs": []
    },
    {
      "cell_type": "code",
      "source": [
        "def eraseOverlapIntervals(intervals: List[List[int]]) -> int:\n",
        "\n",
        "  def overlap(x,y):\n",
        "    return not (x[1]<y[0] or y[1] < x[0])  \n",
        "  intervals.sort()\n",
        "  count = 0 \n",
        "  for i in range(1,len(intervals)-1):\n",
        "    if i >= 0 and  overlap(intervals[i],intervals[i-1]):\n",
        "      intervals.remove(intervals[i])\n",
        "      count +=1\n",
        "  return count\n"
      ],
      "metadata": {
        "id": "DFN7xUdWOXbS"
      },
      "execution_count": 109,
      "outputs": []
    },
    {
      "cell_type": "code",
      "source": [
        "from heapq import heappop, heappush\n",
        "def topMostFrequentElement(nums,k):\n",
        "  p = []\n",
        "  dic = Counter(nums)\n",
        "\n",
        "  for item in dic.keys():\n",
        "    heappush(p,[dic[item],item])\n",
        "    if len(p) > k:\n",
        "      heappop(p)\n",
        "  \n",
        "  result = []\n",
        "\n",
        "  for item in p:\n",
        "    result.append(item[1])\n",
        "  return result \n"
      ],
      "metadata": {
        "id": "KEzEBe66IsCx"
      },
      "execution_count": 121,
      "outputs": []
    },
    {
      "cell_type": "code",
      "source": [
        "from math import inf \n",
        "def coinChange(amount,coins):\n",
        "  dp = [inf]*amount+1\n",
        "  dp[0] = 0 \n",
        "\n",
        "  for amount in range(1,amount+1):\n",
        "    for coin in coins:\n",
        "      if amount-coin >=0:\n",
        "        dp[amount] = min(dp[amount-coin],dp[amount])\n",
        "  \n",
        "  return dp[-1] if dp[-1] < inf else -1 \n"
      ],
      "metadata": {
        "id": "EQdCdRimXAoc"
      },
      "execution_count": 123,
      "outputs": []
    },
    {
      "cell_type": "code",
      "source": [
        ""
      ],
      "metadata": {
        "id": "llb_YjW_YG_5"
      },
      "execution_count": null,
      "outputs": []
    },
    {
      "cell_type": "markdown",
      "source": [
        ""
      ],
      "metadata": {
        "id": "4akt58MyZpMv"
      }
    },
    {
      "cell_type": "code",
      "source": [
        "from sortedcontainers import SortedList "
      ],
      "metadata": {
        "id": "cVN0UUpx5Em2"
      },
      "execution_count": 124,
      "outputs": []
    },
    {
      "cell_type": "markdown",
      "source": [
        ""
      ],
      "metadata": {
        "id": "ukMrIrCMaGj3"
      }
    },
    {
      "cell_type": "code",
      "source": [
        "from sortedcontainers import SortedList\n",
        "class MedianFinder:\n",
        "\n",
        "  def __init__(self) -> None:\n",
        "      self.a = SortedList()\n",
        "      self.n = 0 \n",
        "\n",
        "  def addNum(self,num:int):\n",
        "    self.a.add(num)\n",
        "    self.n +=1\n",
        "  \n",
        "  def findMedian(self):\n",
        "    if self.n%2 == 0:\n",
        "      x= (self.a[self.n//2-1]+self.a[self.n//2])\n",
        "\n",
        "      return x/2\n",
        "    else:\n",
        "      return self.a[self.n//2]"
      ],
      "metadata": {
        "id": "iR2MDiXrauH3"
      },
      "execution_count": 125,
      "outputs": []
    },
    {
      "cell_type": "code",
      "source": [
        "def powerOfTwo(n):\n",
        "  i =1 \n",
        "\n",
        "  while i < n:\n",
        "    i *=n \n",
        "  \n",
        "  return i ==n"
      ],
      "metadata": {
        "id": "XrKBTmWhcW2O"
      },
      "execution_count": 126,
      "outputs": []
    },
    {
      "cell_type": "code",
      "source": [
        "from typing import List \n",
        "class Solution:\n",
        "  def letterCombinations(self, digits: str) -> List[str]:\n",
        "      KEYBOARD = {\n",
        "      '2': 'abc',\n",
        "      '3': 'def',\n",
        "      '4': 'ghi',\n",
        "      '5': 'jkl',\n",
        "      '6': 'mno',\n",
        "      '7': 'pqrs',\n",
        "      '8': 'tuv',\n",
        "      '9': 'wxyz'\n",
        "      }\n",
        "      \n",
        "      res = []\n",
        "      \n",
        "      def dfs(index,path):\n",
        "          if len(path)== len(digits):\n",
        "              res.append(\"\".join(path))\n",
        "              return \n",
        "          \n",
        "          for char in KEYBOARD[digits[index]]:\n",
        "              path.append(char)\n",
        "              dfs(index+1,path)\n",
        "              path.pop()\n",
        "              \n",
        "      \n",
        "      if digits:\n",
        "          dfs(0,[])\n",
        "          \n",
        "      return res"
      ],
      "metadata": {
        "colab": {
          "base_uri": "https://localhost:8080/",
          "height": 365
        },
        "id": "BcNa6gU3aiOG",
        "outputId": "7af04452-04fe-497f-867d-8d6e4610c0c0"
      },
      "execution_count": 2,
      "outputs": [
        {
          "output_type": "error",
          "ename": "NameError",
          "evalue": "ignored",
          "traceback": [
            "\u001b[0;31m---------------------------------------------------------------------------\u001b[0m",
            "\u001b[0;31mNameError\u001b[0m                                 Traceback (most recent call last)",
            "\u001b[0;32m<ipython-input-2-8e09648df873>\u001b[0m in \u001b[0;36m<module>\u001b[0;34m()\u001b[0m\n\u001b[0;32m----> 1\u001b[0;31m \u001b[0;32mclass\u001b[0m \u001b[0mSolution\u001b[0m\u001b[0;34m:\u001b[0m\u001b[0;34m\u001b[0m\u001b[0;34m\u001b[0m\u001b[0m\n\u001b[0m\u001b[1;32m      2\u001b[0m   \u001b[0;32mdef\u001b[0m \u001b[0mletterCombinations\u001b[0m\u001b[0;34m(\u001b[0m\u001b[0mself\u001b[0m\u001b[0;34m,\u001b[0m \u001b[0mdigits\u001b[0m\u001b[0;34m:\u001b[0m \u001b[0mstr\u001b[0m\u001b[0;34m)\u001b[0m \u001b[0;34m->\u001b[0m \u001b[0mList\u001b[0m\u001b[0;34m[\u001b[0m\u001b[0mstr\u001b[0m\u001b[0;34m]\u001b[0m\u001b[0;34m:\u001b[0m\u001b[0;34m\u001b[0m\u001b[0;34m\u001b[0m\u001b[0m\n\u001b[1;32m      3\u001b[0m       KEYBOARD = {\n\u001b[1;32m      4\u001b[0m       \u001b[0;34m'2'\u001b[0m\u001b[0;34m:\u001b[0m \u001b[0;34m'abc'\u001b[0m\u001b[0;34m,\u001b[0m\u001b[0;34m\u001b[0m\u001b[0;34m\u001b[0m\u001b[0m\n\u001b[1;32m      5\u001b[0m       \u001b[0;34m'3'\u001b[0m\u001b[0;34m:\u001b[0m \u001b[0;34m'def'\u001b[0m\u001b[0;34m,\u001b[0m\u001b[0;34m\u001b[0m\u001b[0;34m\u001b[0m\u001b[0m\n",
            "\u001b[0;32m<ipython-input-2-8e09648df873>\u001b[0m in \u001b[0;36mSolution\u001b[0;34m()\u001b[0m\n\u001b[1;32m      1\u001b[0m \u001b[0;32mclass\u001b[0m \u001b[0mSolution\u001b[0m\u001b[0;34m:\u001b[0m\u001b[0;34m\u001b[0m\u001b[0;34m\u001b[0m\u001b[0m\n\u001b[0;32m----> 2\u001b[0;31m   \u001b[0;32mdef\u001b[0m \u001b[0mletterCombinations\u001b[0m\u001b[0;34m(\u001b[0m\u001b[0mself\u001b[0m\u001b[0;34m,\u001b[0m \u001b[0mdigits\u001b[0m\u001b[0;34m:\u001b[0m \u001b[0mstr\u001b[0m\u001b[0;34m)\u001b[0m \u001b[0;34m->\u001b[0m \u001b[0mList\u001b[0m\u001b[0;34m[\u001b[0m\u001b[0mstr\u001b[0m\u001b[0;34m]\u001b[0m\u001b[0;34m:\u001b[0m\u001b[0;34m\u001b[0m\u001b[0;34m\u001b[0m\u001b[0m\n\u001b[0m\u001b[1;32m      3\u001b[0m       KEYBOARD = {\n\u001b[1;32m      4\u001b[0m       \u001b[0;34m'2'\u001b[0m\u001b[0;34m:\u001b[0m \u001b[0;34m'abc'\u001b[0m\u001b[0;34m,\u001b[0m\u001b[0;34m\u001b[0m\u001b[0;34m\u001b[0m\u001b[0m\n\u001b[1;32m      5\u001b[0m       \u001b[0;34m'3'\u001b[0m\u001b[0;34m:\u001b[0m \u001b[0;34m'def'\u001b[0m\u001b[0;34m,\u001b[0m\u001b[0;34m\u001b[0m\u001b[0;34m\u001b[0m\u001b[0m\n",
            "\u001b[0;31mNameError\u001b[0m: name 'List' is not defined"
          ]
        }
      ]
    },
    {
      "cell_type": "code",
      "source": [
        "def word_break(s, words):\n",
        "    def dfs(start_index):\n",
        "        if start_index == len(s): # we have constructed the entire target s\n",
        "            return True\n",
        "\n",
        "        for word in words:\n",
        "            if s[start_index:].startswith(word): # is this a valid path\n",
        "                if dfs(start_index + len(word)):\n",
        "                      return True # any path leads to true is fine\n",
        "\n",
        "        return False\n",
        "\n",
        "    return dfs(0)\n"
      ],
      "metadata": {
        "id": "XoNyh-4TmVIk"
      },
      "execution_count": null,
      "outputs": []
    },
    {
      "cell_type": "code",
      "source": [
        "from typing import List\n",
        "\n",
        "def combination_sum(candidates: List[int], target: int) -> List[List[int]]:\n",
        "    def dfs(nums, start_index, remaining, path):\n",
        "        if remaining == 0:\n",
        "            res.append(path[:])\n",
        "            return\n",
        "        for i in range(start_index, len(nums)):\n",
        "            num = nums[i]\n",
        "            if remaining - num < 0:\n",
        "                continue\n",
        "            dfs(nums, i, remaining - num, path + [num])\n",
        "    res = []\n",
        "    dfs(candidates, 0, target, [])\n",
        "    return res"
      ],
      "metadata": {
        "id": "nQId-v27m0IU"
      },
      "execution_count": 3,
      "outputs": []
    },
    {
      "cell_type": "code",
      "source": [
        "from typing import List\n",
        "\n",
        "def subsets(nums: List[int]) -> List[List[int]]:\n",
        "    n = len(nums)\n",
        "\n",
        "    res = []\n",
        "    def dfs(i, cur):\n",
        "        if i == n:\n",
        "            res.append(cur)\n",
        "            return\n",
        "\n",
        "        dfs(i + 1, cur + [nums[i]])\n",
        "        dfs(i + 1, cur)\n",
        "\n",
        "    dfs(0, [])\n",
        "\n",
        "    return res"
      ],
      "metadata": {
        "id": "qrkFlxZdm6lv"
      },
      "execution_count": 4,
      "outputs": []
    },
    {
      "cell_type": "code",
      "source": [
        "def removeDuplicatesFromSortedArray(nums):\n",
        "    window = 0 \n",
        "    for i in range(1,len(nums)):\n",
        "        if nums[i] != nums[window]:\n",
        "            window +=1\n",
        "            nums[window] = nums[i] \n",
        "    return window+1"
      ],
      "metadata": {
        "id": "7qK5u9TYn5sI"
      },
      "execution_count": 34,
      "outputs": []
    },
    {
      "cell_type": "markdown",
      "source": [
        ""
      ],
      "metadata": {
        "id": "Z5Nt66Upat3R"
      }
    },
    {
      "cell_type": "code",
      "source": [
        "if __name__ == '__main__':\n",
        "  #print(longestSubstringWithoutRepeatingChar(\"pwwkew\"))\n",
        "\n",
        "  nums = [2,7,11,15]\n",
        "  #print(twoSumUsingDic(nums,9))\n",
        "\n",
        " # print(longestSubstringWithoutRepeatingChar(\"babad\"))\n",
        "  num2 = [-1,0,1,2,-1,-4]\n",
        "\n",
        "  #print(threeSum(num2))\n",
        "\n",
        "  #print(isValidParenthesis(\"()\"))\n",
        "\n",
        "\n",
        "  intervals = [[1,2],[2,3],[3,4],[1,3]]\n",
        "  interval2 = [[1,2],[2,3]]\n",
        "\n",
        " # print(eraseOverlapIntervals(interval2))\n",
        "\n",
        "  data1 = [1,1,1,2,2,3]\n",
        "  #print(topMostFrequentElement(data1,2))\n",
        "\n",
        "  print(removeDuplicatesFromSortedArray([1,1,2,2,2,1]))"
      ],
      "metadata": {
        "colab": {
          "base_uri": "https://localhost:8080/",
          "height": 329
        },
        "id": "tp_YsbXPrDxe",
        "outputId": "7a62befc-4216-41a5-d0c6-b4cf8dd578b8"
      },
      "execution_count": 33,
      "outputs": [
        {
          "output_type": "error",
          "ename": "IndexError",
          "evalue": "ignored",
          "traceback": [
            "\u001b[0;31m---------------------------------------------------------------------------\u001b[0m",
            "\u001b[0;31mIndexError\u001b[0m                                Traceback (most recent call last)",
            "\u001b[0;32m<ipython-input-33-ea6ae24f1862>\u001b[0m in \u001b[0;36m<module>\u001b[0;34m()\u001b[0m\n\u001b[1;32m     21\u001b[0m   \u001b[0;31m#print(topMostFrequentElement(data1,2))\u001b[0m\u001b[0;34m\u001b[0m\u001b[0;34m\u001b[0m\u001b[0;34m\u001b[0m\u001b[0m\n\u001b[1;32m     22\u001b[0m \u001b[0;34m\u001b[0m\u001b[0m\n\u001b[0;32m---> 23\u001b[0;31m   \u001b[0mprint\u001b[0m\u001b[0;34m(\u001b[0m\u001b[0mremoveDuplicatesFromSortedArray\u001b[0m\u001b[0;34m(\u001b[0m\u001b[0;34m[\u001b[0m\u001b[0;36m1\u001b[0m\u001b[0;34m,\u001b[0m\u001b[0;36m1\u001b[0m\u001b[0;34m,\u001b[0m\u001b[0;36m2\u001b[0m\u001b[0;34m,\u001b[0m\u001b[0;36m2\u001b[0m\u001b[0;34m,\u001b[0m\u001b[0;36m2\u001b[0m\u001b[0;34m,\u001b[0m\u001b[0;36m1\u001b[0m\u001b[0;34m]\u001b[0m\u001b[0;34m)\u001b[0m\u001b[0;34m)\u001b[0m\u001b[0;34m\u001b[0m\u001b[0;34m\u001b[0m\u001b[0m\n\u001b[0m",
            "\u001b[0;32m<ipython-input-32-ad0a8f83b29a>\u001b[0m in \u001b[0;36mremoveDuplicatesFromSortedArray\u001b[0;34m(nums)\u001b[0m\n\u001b[1;32m      6\u001b[0m \u001b[0;34m\u001b[0m\u001b[0m\n\u001b[1;32m      7\u001b[0m   \u001b[0;32mfor\u001b[0m \u001b[0mi\u001b[0m \u001b[0;32min\u001b[0m \u001b[0mrange\u001b[0m\u001b[0;34m(\u001b[0m\u001b[0;36m1\u001b[0m\u001b[0;34m,\u001b[0m\u001b[0mlen\u001b[0m\u001b[0;34m(\u001b[0m\u001b[0mnums\u001b[0m\u001b[0;34m)\u001b[0m\u001b[0;34m-\u001b[0m\u001b[0;36m1\u001b[0m\u001b[0;34m)\u001b[0m\u001b[0;34m:\u001b[0m\u001b[0;34m\u001b[0m\u001b[0;34m\u001b[0m\u001b[0m\n\u001b[0;32m----> 8\u001b[0;31m     \u001b[0;32mif\u001b[0m \u001b[0mnums\u001b[0m\u001b[0;34m[\u001b[0m\u001b[0mwindow\u001b[0m\u001b[0;34m]\u001b[0m \u001b[0;34m==\u001b[0m \u001b[0mnums\u001b[0m\u001b[0;34m[\u001b[0m\u001b[0mi\u001b[0m\u001b[0;34m]\u001b[0m\u001b[0;34m:\u001b[0m\u001b[0;34m\u001b[0m\u001b[0;34m\u001b[0m\u001b[0m\n\u001b[0m\u001b[1;32m      9\u001b[0m       \u001b[0mwindow\u001b[0m \u001b[0;34m+=\u001b[0m\u001b[0;36m1\u001b[0m\u001b[0;34m\u001b[0m\u001b[0;34m\u001b[0m\u001b[0m\n\u001b[1;32m     10\u001b[0m       \u001b[0mnums\u001b[0m\u001b[0;34m.\u001b[0m\u001b[0mremove\u001b[0m\u001b[0;34m(\u001b[0m\u001b[0mnums\u001b[0m\u001b[0;34m[\u001b[0m\u001b[0mwindow\u001b[0m\u001b[0;34m-\u001b[0m\u001b[0;36m1\u001b[0m\u001b[0;34m]\u001b[0m\u001b[0;34m)\u001b[0m\u001b[0;34m\u001b[0m\u001b[0;34m\u001b[0m\u001b[0m\n",
            "\u001b[0;31mIndexError\u001b[0m: list index out of range"
          ]
        }
      ]
    },
    {
      "cell_type": "code",
      "source": [
        ""
      ],
      "metadata": {
        "id": "foVQqMoFaWSF"
      },
      "execution_count": null,
      "outputs": []
    }
  ]
}