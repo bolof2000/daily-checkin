{
  "nbformat": 4,
  "nbformat_minor": 0,
  "metadata": {
    "colab": {
      "name": "leetcode75.ipynb",
      "provenance": [],
      "authorship_tag": "ABX9TyNYWrTubTM+3a/wLY9Icm7W",
      "include_colab_link": true
    },
    "kernelspec": {
      "name": "python3",
      "display_name": "Python 3"
    },
    "language_info": {
      "name": "python"
    }
  },
  "cells": [
    {
      "cell_type": "markdown",
      "metadata": {
        "id": "view-in-github",
        "colab_type": "text"
      },
      "source": [
        "<a href=\"https://colab.research.google.com/github/bolof2000/daily-checkin/blob/master/leetcode75.ipynb\" target=\"_parent\"><img src=\"https://colab.research.google.com/assets/colab-badge.svg\" alt=\"Open In Colab\"/></a>"
      ]
    },
    {
      "cell_type": "code",
      "execution_count": 1,
      "metadata": {
        "id": "MGttUDNzqbNU"
      },
      "outputs": [],
      "source": [
        "def longestSubstringWithoutRepeatingChar(s:str):\n",
        "  window = 0 \n",
        "  maxlen = 0 \n",
        "\n",
        "  dic = {}\n",
        "\n",
        "  for i in range(len(s)):\n",
        "    char = s[i]\n",
        "    if char in dic and dic[char] >= window:\n",
        "      window = dic[char]+1\n",
        "    dic[char] = i \n",
        "\n",
        "    maxlen = max(maxlen,i-window+1)\n",
        "\n",
        "  return maxlen"
      ]
    },
    {
      "cell_type": "code",
      "source": [
        "from typing import List\n",
        "def twoSum(nums:List,target):\n",
        "\n",
        "  result = []\n",
        "\n",
        "  nums.sort()\n",
        "\n",
        "  left = 0 \n",
        "  right = len(nums)-1\n",
        "\n",
        "  while left < right:\n",
        "    temp = nums[left]+nums[right]\n",
        "    if temp == target:\n",
        "      result.append(left)\n",
        "      result.append(right)\n",
        "      left +=1\n",
        "      right -=1\n",
        "    elif temp > target:\n",
        "      right -=1\n",
        "    else:\n",
        "      left +=1\n",
        "  return result"
      ],
      "metadata": {
        "id": "OBz1p0-FrTCU"
      },
      "execution_count": 7,
      "outputs": []
    },
    {
      "cell_type": "code",
      "source": [
        "from collections import Counter\n",
        "def twoSumUsingDic(nums,target):\n",
        "  result = []\n",
        "  dic = {}\n",
        "  for item in nums:\n",
        "    if item in dic:\n",
        "      dic[item] +=1\n",
        "    else:\n",
        "      dic[item] = 1\n",
        "\n",
        "  for i in range(len(nums)):\n",
        "    num = nums[i]\n",
        "    temp = target-nums[i]\n",
        "\n",
        "    if temp in dic:\n",
        "      result.append(i)\n",
        "      #result.append(dic.get(temp))\n",
        "      #return [i,dic[temp]]\n",
        "    dic[nums[i]] =i\n",
        "  return result\n"
      ],
      "metadata": {
        "id": "a8-sYXCisJX7"
      },
      "execution_count": 33,
      "outputs": []
    },
    {
      "cell_type": "code",
      "source": [
        "def longestPalindromeSubstring(s:str):\n",
        "\n",
        "  def helper(s,left,right):\n",
        "    while left >=0 and right< len(s) and s[left] == s[right]:\n",
        "      left -=1\n",
        "      right +=1\n",
        "    return s[left+1:right]\n",
        "\n",
        "  result = \"\"\n",
        "  for i in range(len(s)):\n",
        "    s1 = helper(s,i+1,i-1)\n",
        "    s2 = helper(s,i,i-1)\n",
        "\n",
        "    result = max(result,s1,s2,key=len)\n",
        "  return result \n"
      ],
      "metadata": {
        "id": "cPoNTo6EwSxk"
      },
      "execution_count": 37,
      "outputs": []
    },
    {
      "cell_type": "code",
      "source": [
        ""
      ],
      "metadata": {
        "id": "b9aFQJXWzB6r"
      },
      "execution_count": null,
      "outputs": []
    },
    {
      "cell_type": "code",
      "source": [
        "if __name__ == '__main__':\n",
        "  print(longestSubstringWithoutRepeatingChar(\"pwwkew\"))\n",
        "\n",
        "  nums = [2,7,11,15]\n",
        "  print(twoSumUsingDic(nums,9))\n",
        "\n",
        "  print(longestSubstringWithoutRepeatingChar(\"babad\"))"
      ],
      "metadata": {
        "colab": {
          "base_uri": "https://localhost:8080/"
        },
        "id": "tp_YsbXPrDxe",
        "outputId": "9e7ed59f-5ac0-4b5e-eb8b-85293bb4f447"
      },
      "execution_count": 38,
      "outputs": [
        {
          "output_type": "stream",
          "name": "stdout",
          "text": [
            "3\n",
            "[0, 1]\n",
            "3\n"
          ]
        }
      ]
    }
  ]
}